{
 "cells": [
  {
   "cell_type": "markdown",
   "metadata": {},
   "source": [
    "# Molecules\n",
    "\n",
    "- Course: Pattern Recognition\n",
    "- Exercise: Exercise 5 - Molecules\n",
    "- Groupe: chaussette\n",
    "- Students: Sergiy Goloviatinski, Ludovic Heberlin, Hina Khadija, Raphaël Margueron"
   ]
  },
  {
   "cell_type": "markdown",
   "metadata": {},
   "source": [
    "## Requirements\n",
    "Install the following libaries and their dependencies (pip a requirements file is available):\n",
    "- networkx (for graph manipulation)\n",
    "- numpy, scipy"
   ]
  },
  {
   "cell_type": "code",
   "execution_count": 1,
   "metadata": {
    "scrolled": false
   },
   "outputs": [
    {
     "name": "stdout",
     "output_type": "stream",
     "text": [
      "Requirement already satisfied: attrs==19.3.0 in e:\\documents\\school\\pattern_recognition\\exercises\\pr_course_team\\exercise5\\venv\\lib\\site-packages (from -r requirements.txt (line 1)) (19.3.0)\n",
      "Requirement already satisfied: backcall==0.1.0 in e:\\documents\\school\\pattern_recognition\\exercises\\pr_course_team\\exercise5\\venv\\lib\\site-packages (from -r requirements.txt (line 2)) (0.1.0)\n",
      "Requirement already satisfied: bleach==3.1.5 in e:\\documents\\school\\pattern_recognition\\exercises\\pr_course_team\\exercise5\\venv\\lib\\site-packages (from -r requirements.txt (line 3)) (3.1.5)\n",
      "Requirement already satisfied: colorama==0.4.3 in e:\\documents\\school\\pattern_recognition\\exercises\\pr_course_team\\exercise5\\venv\\lib\\site-packages (from -r requirements.txt (line 4)) (0.4.3)\n",
      "Requirement already satisfied: decorator==4.4.2 in e:\\documents\\school\\pattern_recognition\\exercises\\pr_course_team\\exercise5\\venv\\lib\\site-packages (from -r requirements.txt (line 5)) (4.4.2)\n",
      "Requirement already satisfied: defusedxml==0.6.0 in e:\\documents\\school\\pattern_recognition\\exercises\\pr_course_team\\exercise5\\venv\\lib\\site-packages (from -r requirements.txt (line 6)) (0.6.0)\n",
      "Requirement already satisfied: entrypoints==0.3 in e:\\documents\\school\\pattern_recognition\\exercises\\pr_course_team\\exercise5\\venv\\lib\\site-packages (from -r requirements.txt (line 7)) (0.3)\n",
      "Requirement already satisfied: importlib-metadata==1.6.0 in e:\\documents\\school\\pattern_recognition\\exercises\\pr_course_team\\exercise5\\venv\\lib\\site-packages (from -r requirements.txt (line 8)) (1.6.0)\n",
      "Requirement already satisfied: ipykernel==5.3.0 in e:\\documents\\school\\pattern_recognition\\exercises\\pr_course_team\\exercise5\\venv\\lib\\site-packages (from -r requirements.txt (line 9)) (5.3.0)\n",
      "Requirement already satisfied: ipython==7.14.0 in e:\\documents\\school\\pattern_recognition\\exercises\\pr_course_team\\exercise5\\venv\\lib\\site-packages (from -r requirements.txt (line 10)) (7.14.0)\n",
      "Requirement already satisfied: ipython-genutils==0.2.0 in e:\\documents\\school\\pattern_recognition\\exercises\\pr_course_team\\exercise5\\venv\\lib\\site-packages (from -r requirements.txt (line 11)) (0.2.0)\n",
      "Requirement already satisfied: ipywidgets==7.5.1 in e:\\documents\\school\\pattern_recognition\\exercises\\pr_course_team\\exercise5\\venv\\lib\\site-packages (from -r requirements.txt (line 12)) (7.5.1)\n",
      "Requirement already satisfied: jedi==0.17.0 in e:\\documents\\school\\pattern_recognition\\exercises\\pr_course_team\\exercise5\\venv\\lib\\site-packages (from -r requirements.txt (line 13)) (0.17.0)\n",
      "Requirement already satisfied: Jinja2==2.11.2 in e:\\documents\\school\\pattern_recognition\\exercises\\pr_course_team\\exercise5\\venv\\lib\\site-packages (from -r requirements.txt (line 14)) (2.11.2)\n",
      "Requirement already satisfied: joblib==0.15.1 in e:\\documents\\school\\pattern_recognition\\exercises\\pr_course_team\\exercise5\\venv\\lib\\site-packages (from -r requirements.txt (line 15)) (0.15.1)\n",
      "Requirement already satisfied: jsonschema==3.2.0 in e:\\documents\\school\\pattern_recognition\\exercises\\pr_course_team\\exercise5\\venv\\lib\\site-packages (from -r requirements.txt (line 16)) (3.2.0)\n",
      "Requirement already satisfied: jupyter==1.0.0 in e:\\documents\\school\\pattern_recognition\\exercises\\pr_course_team\\exercise5\\venv\\lib\\site-packages (from -r requirements.txt (line 17)) (1.0.0)\n",
      "Requirement already satisfied: jupyter-client==6.1.3 in e:\\documents\\school\\pattern_recognition\\exercises\\pr_course_team\\exercise5\\venv\\lib\\site-packages (from -r requirements.txt (line 18)) (6.1.3)\n",
      "Requirement already satisfied: jupyter-console==6.1.0 in e:\\documents\\school\\pattern_recognition\\exercises\\pr_course_team\\exercise5\\venv\\lib\\site-packages (from -r requirements.txt (line 19)) (6.1.0)\n"
     ]
    },
    {
     "name": "stderr",
     "output_type": "stream",
     "text": [
      "WARNING: You are using pip version 20.0.2; however, version 20.1.1 is available.\n",
      "You should consider upgrading via the 'E:\\Documents\\School\\Pattern_Recognition\\Exercises\\PR_Course_Team\\exercise5\\venv\\Scripts\\python.exe -m pip install --upgrade pip' command.\n"
     ]
    },
    {
     "name": "stdout",
     "output_type": "stream",
     "text": [
      "Requirement already satisfied: jupyter-core==4.6.3 in e:\\documents\\school\\pattern_recognition\\exercises\\pr_course_team\\exercise5\\venv\\lib\\site-packages (from -r requirements.txt (line 20)) (4.6.3)\n",
      "Requirement already satisfied: MarkupSafe==1.1.1 in e:\\documents\\school\\pattern_recognition\\exercises\\pr_course_team\\exercise5\\venv\\lib\\site-packages (from -r requirements.txt (line 21)) (1.1.1)\n",
      "Requirement already satisfied: mistune==0.8.4 in e:\\documents\\school\\pattern_recognition\\exercises\\pr_course_team\\exercise5\\venv\\lib\\site-packages (from -r requirements.txt (line 22)) (0.8.4)\n",
      "Requirement already satisfied: nbconvert==5.6.1 in e:\\documents\\school\\pattern_recognition\\exercises\\pr_course_team\\exercise5\\venv\\lib\\site-packages (from -r requirements.txt (line 23)) (5.6.1)\n",
      "Requirement already satisfied: nbformat==5.0.6 in e:\\documents\\school\\pattern_recognition\\exercises\\pr_course_team\\exercise5\\venv\\lib\\site-packages (from -r requirements.txt (line 24)) (5.0.6)\n",
      "Requirement already satisfied: networkx==2.4 in e:\\documents\\school\\pattern_recognition\\exercises\\pr_course_team\\exercise5\\venv\\lib\\site-packages (from -r requirements.txt (line 25)) (2.4)\n",
      "Requirement already satisfied: notebook==6.0.3 in e:\\documents\\school\\pattern_recognition\\exercises\\pr_course_team\\exercise5\\venv\\lib\\site-packages (from -r requirements.txt (line 26)) (6.0.3)\n",
      "Requirement already satisfied: numpy==1.18.4 in e:\\documents\\school\\pattern_recognition\\exercises\\pr_course_team\\exercise5\\venv\\lib\\site-packages (from -r requirements.txt (line 27)) (1.18.4)\n",
      "Requirement already satisfied: packaging==20.4 in e:\\documents\\school\\pattern_recognition\\exercises\\pr_course_team\\exercise5\\venv\\lib\\site-packages (from -r requirements.txt (line 28)) (20.4)\n",
      "Requirement already satisfied: pandocfilters==1.4.2 in e:\\documents\\school\\pattern_recognition\\exercises\\pr_course_team\\exercise5\\venv\\lib\\site-packages (from -r requirements.txt (line 29)) (1.4.2)\n",
      "Requirement already satisfied: parso==0.7.0 in e:\\documents\\school\\pattern_recognition\\exercises\\pr_course_team\\exercise5\\venv\\lib\\site-packages (from -r requirements.txt (line 30)) (0.7.0)\n",
      "Requirement already satisfied: pickleshare==0.7.5 in e:\\documents\\school\\pattern_recognition\\exercises\\pr_course_team\\exercise5\\venv\\lib\\site-packages (from -r requirements.txt (line 31)) (0.7.5)\n",
      "Requirement already satisfied: prometheus-client==0.7.1 in e:\\documents\\school\\pattern_recognition\\exercises\\pr_course_team\\exercise5\\venv\\lib\\site-packages (from -r requirements.txt (line 32)) (0.7.1)\n",
      "Requirement already satisfied: prompt-toolkit==3.0.5 in e:\\documents\\school\\pattern_recognition\\exercises\\pr_course_team\\exercise5\\venv\\lib\\site-packages (from -r requirements.txt (line 33)) (3.0.5)\n",
      "Requirement already satisfied: Pygments==2.6.1 in e:\\documents\\school\\pattern_recognition\\exercises\\pr_course_team\\exercise5\\venv\\lib\\site-packages (from -r requirements.txt (line 34)) (2.6.1)\n",
      "Requirement already satisfied: pyparsing==2.4.7 in e:\\documents\\school\\pattern_recognition\\exercises\\pr_course_team\\exercise5\\venv\\lib\\site-packages (from -r requirements.txt (line 35)) (2.4.7)\n",
      "Requirement already satisfied: pyrsistent==0.16.0 in e:\\documents\\school\\pattern_recognition\\exercises\\pr_course_team\\exercise5\\venv\\lib\\site-packages (from -r requirements.txt (line 36)) (0.16.0)\n",
      "Requirement already satisfied: python-dateutil==2.8.1 in e:\\documents\\school\\pattern_recognition\\exercises\\pr_course_team\\exercise5\\venv\\lib\\site-packages (from -r requirements.txt (line 37)) (2.8.1)\n",
      "Requirement already satisfied: pywin32==227 in e:\\documents\\school\\pattern_recognition\\exercises\\pr_course_team\\exercise5\\venv\\lib\\site-packages (from -r requirements.txt (line 38)) (227)\n",
      "Requirement already satisfied: pywinpty==0.5.7 in e:\\documents\\school\\pattern_recognition\\exercises\\pr_course_team\\exercise5\\venv\\lib\\site-packages (from -r requirements.txt (line 39)) (0.5.7)\n",
      "Requirement already satisfied: pyzmq==19.0.1 in e:\\documents\\school\\pattern_recognition\\exercises\\pr_course_team\\exercise5\\venv\\lib\\site-packages (from -r requirements.txt (line 40)) (19.0.1)\n",
      "Requirement already satisfied: qtconsole==4.7.4 in e:\\documents\\school\\pattern_recognition\\exercises\\pr_course_team\\exercise5\\venv\\lib\\site-packages (from -r requirements.txt (line 41)) (4.7.4)\n",
      "Requirement already satisfied: QtPy==1.9.0 in e:\\documents\\school\\pattern_recognition\\exercises\\pr_course_team\\exercise5\\venv\\lib\\site-packages (from -r requirements.txt (line 42)) (1.9.0)\n",
      "Requirement already satisfied: scikit-learn==0.23.1 in e:\\documents\\school\\pattern_recognition\\exercises\\pr_course_team\\exercise5\\venv\\lib\\site-packages (from -r requirements.txt (line 43)) (0.23.1)\n",
      "Requirement already satisfied: scipy==1.4.1 in e:\\documents\\school\\pattern_recognition\\exercises\\pr_course_team\\exercise5\\venv\\lib\\site-packages (from -r requirements.txt (line 44)) (1.4.1)\n",
      "Requirement already satisfied: Send2Trash==1.5.0 in e:\\documents\\school\\pattern_recognition\\exercises\\pr_course_team\\exercise5\\venv\\lib\\site-packages (from -r requirements.txt (line 45)) (1.5.0)\n",
      "Requirement already satisfied: six==1.15.0 in e:\\documents\\school\\pattern_recognition\\exercises\\pr_course_team\\exercise5\\venv\\lib\\site-packages (from -r requirements.txt (line 46)) (1.15.0)\n",
      "Requirement already satisfied: terminado==0.8.3 in e:\\documents\\school\\pattern_recognition\\exercises\\pr_course_team\\exercise5\\venv\\lib\\site-packages (from -r requirements.txt (line 47)) (0.8.3)\n",
      "Requirement already satisfied: testpath==0.4.4 in e:\\documents\\school\\pattern_recognition\\exercises\\pr_course_team\\exercise5\\venv\\lib\\site-packages (from -r requirements.txt (line 48)) (0.4.4)\n",
      "Requirement already satisfied: threadpoolctl==2.0.0 in e:\\documents\\school\\pattern_recognition\\exercises\\pr_course_team\\exercise5\\venv\\lib\\site-packages (from -r requirements.txt (line 49)) (2.0.0)\n",
      "Requirement already satisfied: tornado==6.0.4 in e:\\documents\\school\\pattern_recognition\\exercises\\pr_course_team\\exercise5\\venv\\lib\\site-packages (from -r requirements.txt (line 50)) (6.0.4)\n",
      "Requirement already satisfied: traitlets==4.3.3 in e:\\documents\\school\\pattern_recognition\\exercises\\pr_course_team\\exercise5\\venv\\lib\\site-packages (from -r requirements.txt (line 51)) (4.3.3)\n",
      "Requirement already satisfied: wcwidth==0.1.9 in e:\\documents\\school\\pattern_recognition\\exercises\\pr_course_team\\exercise5\\venv\\lib\\site-packages (from -r requirements.txt (line 52)) (0.1.9)\n",
      "Requirement already satisfied: webencodings==0.5.1 in e:\\documents\\school\\pattern_recognition\\exercises\\pr_course_team\\exercise5\\venv\\lib\\site-packages (from -r requirements.txt (line 53)) (0.5.1)\n",
      "Requirement already satisfied: widgetsnbextension==3.5.1 in e:\\documents\\school\\pattern_recognition\\exercises\\pr_course_team\\exercise5\\venv\\lib\\site-packages (from -r requirements.txt (line 54)) (3.5.1)\n",
      "Requirement already satisfied: zipp==3.1.0 in e:\\documents\\school\\pattern_recognition\\exercises\\pr_course_team\\exercise5\\venv\\lib\\site-packages (from -r requirements.txt (line 55)) (3.1.0)\n",
      "Requirement already satisfied: setuptools>=18.5 in e:\\documents\\school\\pattern_recognition\\exercises\\pr_course_team\\exercise5\\venv\\lib\\site-packages (from ipython==7.14.0->-r requirements.txt (line 10)) (46.1.3)\n"
     ]
    }
   ],
   "source": [
    "!pip install -r requirements.txt"
   ]
  },
  {
   "cell_type": "markdown",
   "metadata": {},
   "source": [
    "## Preprocessing"
   ]
  },
  {
   "cell_type": "code",
   "execution_count": 2,
   "metadata": {},
   "outputs": [],
   "source": [
    "import os\n",
    "import networkx as nx\n",
    "import xml.etree.ElementTree as ET\n",
    "import numpy as np\n",
    "import scipy as sp\n",
    "import sklearn"
   ]
  },
  {
   "cell_type": "code",
   "execution_count": 3,
   "metadata": {},
   "outputs": [],
   "source": [
    "GXL_FOLDER = \"./MoleculesClassification/gxl/\"\n",
    "TRAIN_FILE = \"./MoleculesClassification/train.txt\"\n",
    "VALIDATION_FILE = \"./MoleculesClassification/valid.txt\""
   ]
  },
  {
   "cell_type": "code",
   "execution_count": 4,
   "metadata": {
    "scrolled": false
   },
   "outputs": [
    {
     "name": "stdout",
     "output_type": "stream",
     "text": [
      "Nb of graphs for training : 250\n",
      "Nb of graphs for validation : 250\n"
     ]
    }
   ],
   "source": [
    "\n",
    "\n",
    "type_table = {\n",
    "    \"string\": str,\n",
    "    \"int\": int,\n",
    "    \"float\": float\n",
    "}\n",
    "\n",
    "def load_gxl_file(file_name):\n",
    "    full_path = GXL_FOLDER + file_name + \".gxl\"\n",
    "    tree = ET.parse(full_path)\n",
    "    root = tree.getroot()\n",
    "    graph = root.find(\"graph\")\n",
    "    nodes = graph.findall(\"node\")\n",
    "    edges = graph.findall(\"edge\")\n",
    "    \n",
    "    G = nx.Graph()\n",
    "    for node in nodes:\n",
    "        node_id = node.get(\"id\")\n",
    "        attr_dict = {attr.get(\"name\"): type_table[attr[0].tag](attr[0].text) for attr in node.findall(\"attr\")}\n",
    "        G.add_node(node_id, attr_dict=attr_dict)\n",
    "\n",
    "    for edge in edges:\n",
    "        edge_from = edge.get(\"from\")\n",
    "        edge_to = edge.get(\"to\")\n",
    "        attr_dict = {attr.get(\"name\"): type_table[attr[0].tag](attr[0].text) for attr in node.findall(\"attr\")}\n",
    "        G.add_edge(edge_from, edge_to, attr_dict=attr_dict)\n",
    "\n",
    "    return G\n",
    "\n",
    "def get_gxl_data(dataset):\n",
    "    lines = [l.split(\" \") for l in open(dataset).read().split(\"\\n\")]\n",
    "    lines = [l for l in lines if len(l) == 2]\n",
    "    \n",
    "    file_names, classes = zip(*lines)\n",
    "    graphs = tuple(load_gxl_file(file_name) for file_name in file_names)\n",
    "\n",
    "    return graphs, classes\n",
    "    \n",
    "    \n",
    "train_graphs, train_classes = get_gxl_data(TRAIN_FILE)\n",
    "validation_graphs, validation_classes = get_gxl_data(VALIDATION_FILE)\n",
    "\n",
    "print(f\"Nb of graphs for training : {len(train_graphs)}\")\n",
    "print(f\"Nb of graphs for validation : {len(validation_graphs)}\")"
   ]
  },
  {
   "cell_type": "code",
   "execution_count": 12,
   "metadata": {},
   "outputs": [
    {
     "name": "stdout",
     "output_type": "stream",
     "text": [
      "<class 'networkx.classes.graph.Graph'>\n",
      "25.0\n",
      "<class 'networkx.classes.graph.Graph'>\n"
     ]
    }
   ],
   "source": [
    "def ged(G_1, G_2, matrix_form=False, n_approxims=1):\n",
    "    \n",
    "    if(matrix_form):\n",
    "        G_1 = nx.from_scipy_sparse_matrix(G_1)\n",
    "        G_2 = nx.from_scipy_sparse_matrix(G_2)\n",
    "        \n",
    "    ged_generator = nx.optimize_graph_edit_distance(G_1, G_2)\n",
    "    for i in range(n_approxims):\n",
    "        val = next(ged_generator)\n",
    "        \n",
    "    return val"
   ]
  },
  {
   "cell_type": "code",
   "execution_count": 9,
   "metadata": {},
   "outputs": [
    {
     "name": "stdout",
     "output_type": "stream",
     "text": [
      "  (0, 1)\t1\n",
      "  (0, 3)\t1\n",
      "  (0, 4)\t1\n",
      "  (1, 0)\t1\n",
      "  (1, 2)\t1\n",
      "  (1, 9)\t1\n",
      "  (2, 1)\t1\n",
      "  (3, 0)\t1\n",
      "  (4, 0)\t1\n",
      "  (4, 5)\t1\n",
      "  (5, 4)\t1\n",
      "  (5, 6)\t1\n",
      "  (6, 5)\t1\n",
      "  (6, 7)\t1\n",
      "  (6, 8)\t1\n",
      "  (6, 9)\t1\n",
      "  (7, 6)\t1\n",
      "  (8, 6)\t1\n",
      "  (9, 1)\t1\n",
      "  (9, 6)\t1\n"
     ]
    }
   ],
   "source": [
    "from sklearn.neighbors import NearestNeighbors\n",
    "\n",
    "params = {\n",
    "    'n_neighbors':1,\n",
    "    'algorithm':'ball_tree',\n",
    "}\n",
    "\n",
    "metric_params = {\n",
    "    'matrix_form':True,\n",
    "    'n_approxims':1,\n",
    "}\n",
    "\n",
    "X_train = np.array([nx.to_scipy_sparse_matrix(G) for G in train_graphs])\n",
    "y_train = train_classes\n",
    "print(X_train[0])"
   ]
  },
  {
   "cell_type": "code",
   "execution_count": 10,
   "metadata": {},
   "outputs": [
    {
     "ename": "ValueError",
     "evalue": "setting an array element with a sequence.",
     "output_type": "error",
     "traceback": [
      "\u001b[1;31m---------------------------------------------------------------------------\u001b[0m",
      "\u001b[1;31mTypeError\u001b[0m                                 Traceback (most recent call last)",
      "\u001b[1;31mTypeError\u001b[0m: float() argument must be a string or a number, not 'csr_matrix'",
      "\nThe above exception was the direct cause of the following exception:\n",
      "\u001b[1;31mValueError\u001b[0m                                Traceback (most recent call last)",
      "\u001b[1;32m<ipython-input-10-fd75de8fa855>\u001b[0m in \u001b[0;36m<module>\u001b[1;34m\u001b[0m\n\u001b[0;32m      3\u001b[0m                         n_jobs=4)\n\u001b[0;32m      4\u001b[0m \u001b[1;33m\u001b[0m\u001b[0m\n\u001b[1;32m----> 5\u001b[1;33m \u001b[0mnbrs\u001b[0m\u001b[1;33m.\u001b[0m\u001b[0mfit\u001b[0m\u001b[1;33m(\u001b[0m\u001b[0mX_train\u001b[0m\u001b[1;33m,\u001b[0m \u001b[0my_train\u001b[0m\u001b[1;33m)\u001b[0m\u001b[1;33m\u001b[0m\u001b[0m\n\u001b[0m",
      "\u001b[1;32me:\\documents\\school\\pattern_recognition\\exercises\\pr_course_team\\exercise5\\venv\\lib\\site-packages\\sklearn\\neighbors\\_base.py\u001b[0m in \u001b[0;36mfit\u001b[1;34m(self, X, y)\u001b[0m\n\u001b[0;32m   1171\u001b[0m             \u001b[1;32mor\u001b[0m \u001b[1;33m[\u001b[0m\u001b[0mn_samples\u001b[0m\u001b[1;33m,\u001b[0m \u001b[0mn_samples\u001b[0m\u001b[1;33m]\u001b[0m \u001b[1;32mif\u001b[0m \u001b[0mmetric\u001b[0m\u001b[1;33m=\u001b[0m\u001b[1;34m'precomputed'\u001b[0m\u001b[1;33m.\u001b[0m\u001b[1;33m\u001b[0m\u001b[0m\n\u001b[0;32m   1172\u001b[0m         \"\"\"\n\u001b[1;32m-> 1173\u001b[1;33m         \u001b[1;32mreturn\u001b[0m \u001b[0mself\u001b[0m\u001b[1;33m.\u001b[0m\u001b[0m_fit\u001b[0m\u001b[1;33m(\u001b[0m\u001b[0mX\u001b[0m\u001b[1;33m)\u001b[0m\u001b[1;33m\u001b[0m\u001b[0m\n\u001b[0m",
      "\u001b[1;32me:\\documents\\school\\pattern_recognition\\exercises\\pr_course_team\\exercise5\\venv\\lib\\site-packages\\sklearn\\neighbors\\_base.py\u001b[0m in \u001b[0;36m_fit\u001b[1;34m(self, X)\u001b[0m\n\u001b[0;32m    399\u001b[0m             \u001b[0mself\u001b[0m\u001b[1;33m.\u001b[0m\u001b[0mn_features_in_\u001b[0m \u001b[1;33m=\u001b[0m \u001b[0mX\u001b[0m\u001b[1;33m.\u001b[0m\u001b[0mshape\u001b[0m\u001b[1;33m[\u001b[0m\u001b[1;36m1\u001b[0m\u001b[1;33m]\u001b[0m\u001b[1;33m\u001b[0m\u001b[0m\n\u001b[0;32m    400\u001b[0m         \u001b[1;32melse\u001b[0m\u001b[1;33m:\u001b[0m\u001b[1;33m\u001b[0m\u001b[0m\n\u001b[1;32m--> 401\u001b[1;33m             \u001b[0mX\u001b[0m \u001b[1;33m=\u001b[0m \u001b[0mself\u001b[0m\u001b[1;33m.\u001b[0m\u001b[0m_validate_data\u001b[0m\u001b[1;33m(\u001b[0m\u001b[0mX\u001b[0m\u001b[1;33m,\u001b[0m \u001b[0maccept_sparse\u001b[0m\u001b[1;33m=\u001b[0m\u001b[1;34m'csr'\u001b[0m\u001b[1;33m)\u001b[0m\u001b[1;33m\u001b[0m\u001b[0m\n\u001b[0m\u001b[0;32m    402\u001b[0m \u001b[1;33m\u001b[0m\u001b[0m\n\u001b[0;32m    403\u001b[0m         \u001b[0mn_samples\u001b[0m \u001b[1;33m=\u001b[0m \u001b[0mX\u001b[0m\u001b[1;33m.\u001b[0m\u001b[0mshape\u001b[0m\u001b[1;33m[\u001b[0m\u001b[1;36m0\u001b[0m\u001b[1;33m]\u001b[0m\u001b[1;33m\u001b[0m\u001b[0m\n",
      "\u001b[1;32me:\\documents\\school\\pattern_recognition\\exercises\\pr_course_team\\exercise5\\venv\\lib\\site-packages\\sklearn\\base.py\u001b[0m in \u001b[0;36m_validate_data\u001b[1;34m(self, X, y, reset, validate_separately, **check_params)\u001b[0m\n\u001b[0;32m    418\u001b[0m                     \u001b[1;34mf\"requires y to be passed, but the target y is None.\"\u001b[0m\u001b[1;33m\u001b[0m\u001b[0m\n\u001b[0;32m    419\u001b[0m                 )\n\u001b[1;32m--> 420\u001b[1;33m             \u001b[0mX\u001b[0m \u001b[1;33m=\u001b[0m \u001b[0mcheck_array\u001b[0m\u001b[1;33m(\u001b[0m\u001b[0mX\u001b[0m\u001b[1;33m,\u001b[0m \u001b[1;33m**\u001b[0m\u001b[0mcheck_params\u001b[0m\u001b[1;33m)\u001b[0m\u001b[1;33m\u001b[0m\u001b[0m\n\u001b[0m\u001b[0;32m    421\u001b[0m             \u001b[0mout\u001b[0m \u001b[1;33m=\u001b[0m \u001b[0mX\u001b[0m\u001b[1;33m\u001b[0m\u001b[0m\n\u001b[0;32m    422\u001b[0m         \u001b[1;32melse\u001b[0m\u001b[1;33m:\u001b[0m\u001b[1;33m\u001b[0m\u001b[0m\n",
      "\u001b[1;32me:\\documents\\school\\pattern_recognition\\exercises\\pr_course_team\\exercise5\\venv\\lib\\site-packages\\sklearn\\utils\\validation.py\u001b[0m in \u001b[0;36minner_f\u001b[1;34m(*args, **kwargs)\u001b[0m\n\u001b[0;32m     71\u001b[0m                           FutureWarning)\n\u001b[0;32m     72\u001b[0m         \u001b[0mkwargs\u001b[0m\u001b[1;33m.\u001b[0m\u001b[0mupdate\u001b[0m\u001b[1;33m(\u001b[0m\u001b[1;33m{\u001b[0m\u001b[0mk\u001b[0m\u001b[1;33m:\u001b[0m \u001b[0marg\u001b[0m \u001b[1;32mfor\u001b[0m \u001b[0mk\u001b[0m\u001b[1;33m,\u001b[0m \u001b[0marg\u001b[0m \u001b[1;32min\u001b[0m \u001b[0mzip\u001b[0m\u001b[1;33m(\u001b[0m\u001b[0msig\u001b[0m\u001b[1;33m.\u001b[0m\u001b[0mparameters\u001b[0m\u001b[1;33m,\u001b[0m \u001b[0margs\u001b[0m\u001b[1;33m)\u001b[0m\u001b[1;33m}\u001b[0m\u001b[1;33m)\u001b[0m\u001b[1;33m\u001b[0m\u001b[0m\n\u001b[1;32m---> 73\u001b[1;33m         \u001b[1;32mreturn\u001b[0m \u001b[0mf\u001b[0m\u001b[1;33m(\u001b[0m\u001b[1;33m**\u001b[0m\u001b[0mkwargs\u001b[0m\u001b[1;33m)\u001b[0m\u001b[1;33m\u001b[0m\u001b[0m\n\u001b[0m\u001b[0;32m     74\u001b[0m     \u001b[1;32mreturn\u001b[0m \u001b[0minner_f\u001b[0m\u001b[1;33m\u001b[0m\u001b[0m\n\u001b[0;32m     75\u001b[0m \u001b[1;33m\u001b[0m\u001b[0m\n",
      "\u001b[1;32me:\\documents\\school\\pattern_recognition\\exercises\\pr_course_team\\exercise5\\venv\\lib\\site-packages\\sklearn\\utils\\validation.py\u001b[0m in \u001b[0;36mcheck_array\u001b[1;34m(array, accept_sparse, accept_large_sparse, dtype, order, copy, force_all_finite, ensure_2d, allow_nd, ensure_min_samples, ensure_min_features, estimator)\u001b[0m\n\u001b[0;32m    597\u001b[0m                     \u001b[0marray\u001b[0m \u001b[1;33m=\u001b[0m \u001b[0marray\u001b[0m\u001b[1;33m.\u001b[0m\u001b[0mastype\u001b[0m\u001b[1;33m(\u001b[0m\u001b[0mdtype\u001b[0m\u001b[1;33m,\u001b[0m \u001b[0mcasting\u001b[0m\u001b[1;33m=\u001b[0m\u001b[1;34m\"unsafe\"\u001b[0m\u001b[1;33m,\u001b[0m \u001b[0mcopy\u001b[0m\u001b[1;33m=\u001b[0m\u001b[1;32mFalse\u001b[0m\u001b[1;33m)\u001b[0m\u001b[1;33m\u001b[0m\u001b[0m\n\u001b[0;32m    598\u001b[0m                 \u001b[1;32melse\u001b[0m\u001b[1;33m:\u001b[0m\u001b[1;33m\u001b[0m\u001b[0m\n\u001b[1;32m--> 599\u001b[1;33m                     \u001b[0marray\u001b[0m \u001b[1;33m=\u001b[0m \u001b[0mnp\u001b[0m\u001b[1;33m.\u001b[0m\u001b[0masarray\u001b[0m\u001b[1;33m(\u001b[0m\u001b[0marray\u001b[0m\u001b[1;33m,\u001b[0m \u001b[0morder\u001b[0m\u001b[1;33m=\u001b[0m\u001b[0morder\u001b[0m\u001b[1;33m,\u001b[0m \u001b[0mdtype\u001b[0m\u001b[1;33m=\u001b[0m\u001b[0mdtype\u001b[0m\u001b[1;33m)\u001b[0m\u001b[1;33m\u001b[0m\u001b[0m\n\u001b[0m\u001b[0;32m    600\u001b[0m             \u001b[1;32mexcept\u001b[0m \u001b[0mComplexWarning\u001b[0m\u001b[1;33m:\u001b[0m\u001b[1;33m\u001b[0m\u001b[0m\n\u001b[0;32m    601\u001b[0m                 raise ValueError(\"Complex data not supported\\n\"\n",
      "\u001b[1;32me:\\documents\\school\\pattern_recognition\\exercises\\pr_course_team\\exercise5\\venv\\lib\\site-packages\\numpy\\core\\_asarray.py\u001b[0m in \u001b[0;36masarray\u001b[1;34m(a, dtype, order)\u001b[0m\n\u001b[0;32m     83\u001b[0m \u001b[1;33m\u001b[0m\u001b[0m\n\u001b[0;32m     84\u001b[0m     \"\"\"\n\u001b[1;32m---> 85\u001b[1;33m     \u001b[1;32mreturn\u001b[0m \u001b[0marray\u001b[0m\u001b[1;33m(\u001b[0m\u001b[0ma\u001b[0m\u001b[1;33m,\u001b[0m \u001b[0mdtype\u001b[0m\u001b[1;33m,\u001b[0m \u001b[0mcopy\u001b[0m\u001b[1;33m=\u001b[0m\u001b[1;32mFalse\u001b[0m\u001b[1;33m,\u001b[0m \u001b[0morder\u001b[0m\u001b[1;33m=\u001b[0m\u001b[0morder\u001b[0m\u001b[1;33m)\u001b[0m\u001b[1;33m\u001b[0m\u001b[0m\n\u001b[0m\u001b[0;32m     86\u001b[0m \u001b[1;33m\u001b[0m\u001b[0m\n\u001b[0;32m     87\u001b[0m \u001b[1;33m\u001b[0m\u001b[0m\n",
      "\u001b[1;31mValueError\u001b[0m: setting an array element with a sequence."
     ]
    }
   ],
   "source": [
    "nbrs = NearestNeighbors(n_neighbors=params['n_neighbors'], algorithm=params['algorithm'], \n",
    "                        metric=ged, metric_params=metric_params,\n",
    "                        n_jobs=4)\n",
    "\n",
    "nbrs.fit(X_train, y_train)"
   ]
  },
  {
   "cell_type": "code",
   "execution_count": null,
   "metadata": {},
   "outputs": [],
   "source": []
  }
 ],
 "metadata": {
  "kernelspec": {
   "display_name": "Python 3",
   "language": "python",
   "name": "python3"
  },
  "language_info": {
   "codemirror_mode": {
    "name": "ipython",
    "version": 3
   },
   "file_extension": ".py",
   "mimetype": "text/x-python",
   "name": "python",
   "nbconvert_exporter": "python",
   "pygments_lexer": "ipython3",
   "version": "3.7.0"
  }
 },
 "nbformat": 4,
 "nbformat_minor": 4
}
