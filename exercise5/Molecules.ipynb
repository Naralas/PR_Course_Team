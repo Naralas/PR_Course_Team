{
 "cells": [
  {
   "cell_type": "markdown",
   "metadata": {},
   "source": [
    "# Molecules\n",
    "\n",
    "- Course: Pattern Recognition\n",
    "- Exercise: Exercise 5 - Molecules\n",
    "- Groupe: chaussette\n",
    "- Students: Sergiy Goloviatinski, Ludovic Heberlin, Hina Khadija, Raphaël Margueron"
   ]
  },
  {
   "cell_type": "markdown",
   "metadata": {},
   "source": [
    "## Requirements\n",
    "Install the following libaries and their dependencies (pip a requirements file is available):\n",
    "- networkx (for graph manipulation)"
   ]
  },
  {
   "cell_type": "code",
   "execution_count": 4,
   "metadata": {
    "scrolled": false
   },
   "outputs": [
    {
     "name": "stdout",
     "output_type": "stream",
     "text": [
      "Requirement already satisfied: networkx>=2.4 in c:\\python38\\lib\\site-packages (from -r requirements.txt (line 1)) (2.4)\n",
      "Requirement already satisfied: decorator>=4.3.0 in c:\\python38\\lib\\site-packages (from networkx>=2.4->-r requirements.txt (line 1)) (4.4.2)\n"
     ]
    }
   ],
   "source": [
    "!pip install -r requirements.txt"
   ]
  },
  {
   "cell_type": "markdown",
   "metadata": {},
   "source": [
    "## Preprocessing"
   ]
  },
  {
   "cell_type": "code",
   "execution_count": 5,
   "metadata": {},
   "outputs": [],
   "source": [
    "GXL_FOLDER = \"./MoleculesClassification/gxl/\"\n",
    "TRAIN_FILE = \"./MoleculesClassification/train.txt\"\n",
    "VALIDATION_FILE = \"./MoleculesClassification/valid.txt\""
   ]
  },
  {
   "cell_type": "code",
   "execution_count": 6,
   "metadata": {
    "scrolled": false
   },
   "outputs": [],
   "source": [
    "import os\n",
    "import networkx as nx\n",
    "import xml.etree.ElementTree as ET\n",
    "\n",
    "type_table = {\n",
    "    \"string\": str,\n",
    "    \"int\": int,\n",
    "    \"float\": float\n",
    "}\n",
    "\n",
    "def load_gxl_file(file_name):\n",
    "    full_path = GXL_FOLDER + file_name + \".gxl\"\n",
    "    tree = ET.parse(full_path)\n",
    "    root = tree.getroot()\n",
    "    graph = root.find(\"graph\")\n",
    "    nodes = graph.findall(\"node\")\n",
    "    edges = graph.findall(\"edge\")\n",
    "    \n",
    "    G = nx.Graph()\n",
    "    for node in nodes:\n",
    "        node_id = node.get(\"id\")\n",
    "        attr_dict = {attr.get(\"name\"): type_table[attr[0].tag](attr[0].text) for attr in node.findall(\"attr\")}\n",
    "        G.add_node(node_id, attr_dict=attr_dict)\n",
    "\n",
    "    for edge in edges:\n",
    "        edge_from = edge.get(\"from\")\n",
    "        edge_to = edge.get(\"to\")\n",
    "        attr_dict = {attr.get(\"name\"): type_table[attr[0].tag](attr[0].text) for attr in node.findall(\"attr\")}\n",
    "        G.add_edge(edge_from, edge_to, attr_dict=attr_dict)\n",
    "\n",
    "    return G\n",
    "\n",
    "def get_gxl_data(dataset):\n",
    "    lines = [l.split(\" \") for l in open(dataset).read().split(\"\\n\")]\n",
    "    lines = [l for l in lines if len(l) == 2]\n",
    "    \n",
    "    file_names, classes = zip(*lines)\n",
    "    graphs = tuple(load_gxl_file(file_name) for file_name in file_names)\n",
    "\n",
    "    return graphs, classes\n",
    "    \n",
    "    \n",
    "train_graphs, train_classes = get_gxl_data(TRAIN_FILE)\n",
    "validation_graphs, validation_classes = get_gxl_data(VALIDATION_FILE)"
   ]
  },
  {
   "cell_type": "code",
   "execution_count": null,
   "metadata": {},
   "outputs": [],
   "source": []
  }
 ],
 "metadata": {
  "kernelspec": {
   "display_name": "Python 3",
   "language": "python",
   "name": "python3"
  },
  "language_info": {
   "codemirror_mode": {
    "name": "ipython",
    "version": 3
   },
   "file_extension": ".py",
   "mimetype": "text/x-python",
   "name": "python",
   "nbconvert_exporter": "python",
   "pygments_lexer": "ipython3",
   "version": "3.8.2"
  }
 },
 "nbformat": 4,
 "nbformat_minor": 4
}
