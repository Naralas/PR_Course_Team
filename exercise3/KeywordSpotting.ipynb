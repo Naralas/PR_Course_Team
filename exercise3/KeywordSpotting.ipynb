{
 "cells": [
  {
   "cell_type": "markdown",
   "metadata": {},
   "source": [
    "## Preprocessing"
   ]
  },
  {
   "cell_type": "code",
   "execution_count": 1,
   "metadata": {},
   "outputs": [],
   "source": [
    "with open(\"task/train.txt\") as file:\n",
    "    data = file.read()\n",
    "    train_ids=data.split()\n",
    "with open(\"task/valid.txt\") as file:\n",
    "    data = file.read()\n",
    "    test_ids=data.split()"
   ]
  },
  {
   "cell_type": "code",
   "execution_count": 2,
   "metadata": {},
   "outputs": [],
   "source": [
    "from PIL import Image\n",
    "\n",
    "def get_image(img_id):\n",
    "    image = Image.open(f'images/{img_id}.jpg')\n",
    "    return image"
   ]
  },
  {
   "cell_type": "code",
   "execution_count": 3,
   "metadata": {},
   "outputs": [],
   "source": [
    "from xml.dom import minidom\n",
    "def get_svg_polygons(img_id):\n",
    "    #source: https://stackoverflow.com/a/15857847\n",
    "    doc = minidom.parse(f'ground-truth/locations/{img_id}.svg')\n",
    "    path_strings = [path.getAttribute('d') for path\n",
    "                in doc.getElementsByTagName('path')]\n",
    "    doc.unlink()\n",
    "    polygons=[]\n",
    "    for path_string in path_strings:\n",
    "        splitted_path_string=path_string.split()\n",
    "        temp_coor=[]\n",
    "        polygons.append([])\n",
    "        for i in range(len(splitted_path_string)):\n",
    "            if i%3==0 and i!=0:\n",
    "                polygons[-1].append(tuple(temp_coor))\n",
    "                temp_coor=[]\n",
    "            elif i!=0:\n",
    "                temp_coor.append(float(splitted_path_string[i]))\n",
    "        \n",
    "    return polygons"
   ]
  },
  {
   "cell_type": "code",
   "execution_count": 4,
   "metadata": {},
   "outputs": [],
   "source": [
    "#source: https://stackoverflow.com/a/59208291\n",
    "def crop(image):\n",
    "    y_nonzero, x_nonzero, _ = np.nonzero(image<255)\n",
    "    image = Image.fromarray(image, \"RGB\")\n",
    "    return image.crop((np.min(x_nonzero), np.min(y_nonzero), np.max(x_nonzero), np.max(y_nonzero)))"
   ]
  },
  {
   "cell_type": "code",
   "execution_count": 5,
   "metadata": {
    "scrolled": false
   },
   "outputs": [],
   "source": [
    "import numpy as np\n",
    "from PIL import ImageDraw\n",
    "from IPython.display import display\n",
    "from tqdm.notebook import tqdm\n",
    "import cv2\n",
    "\n",
    "def get_binarized_words(img_id):\n",
    "    polygons=get_svg_polygons(img_id)\n",
    "\n",
    "    im=get_image(img_id).convert(\"RGB\")\n",
    "    imArray = np.asarray(im)\n",
    "    \n",
    "    binarized_words=[]\n",
    "\n",
    "    for polygon in tqdm(polygons):\n",
    "        #source: https://stackoverflow.com/a/22650239\n",
    "\n",
    "        maskIm = Image.new('L', (imArray.shape[1], imArray.shape[0]), 0)\n",
    "        ImageDraw.Draw(maskIm).polygon(polygon, outline=1, fill=1)\n",
    "        mask = np.array(maskIm)\n",
    "        newImArray = np.empty(imArray.shape,dtype='uint8')\n",
    "\n",
    "        newImArray[:,:,:3] = imArray[:,:,:3]\n",
    "\n",
    "        newImArray[:,:,0] = np.invert(newImArray[:,:,0])\n",
    "        newImArray[:,:,1] = np.invert(newImArray[:,:,1])\n",
    "        newImArray[:,:,2] = np.invert(newImArray[:,:,2])\n",
    "\n",
    "        newImArray[:,:,0] = newImArray[:,:,0] * mask\n",
    "        newImArray[:,:,1] = newImArray[:,:,1] * mask\n",
    "        newImArray[:,:,2] = newImArray[:,:,2] * mask\n",
    "\n",
    "        newImArray[:,:,0] = np.invert(newImArray[:,:,0])\n",
    "        newImArray[:,:,1] = np.invert(newImArray[:,:,1])\n",
    "        newImArray[:,:,2] = np.invert(newImArray[:,:,2])\n",
    "\n",
    "        newIm=crop(newImArray)\n",
    "\n",
    "        img = np.array(newIm)\n",
    "        img = img[:, :, ::-1].copy() \n",
    "        img = cv2.cvtColor(img, cv2.COLOR_BGR2GRAY)\n",
    "\n",
    "        blur = cv2.GaussianBlur(img,(5,5),0)\n",
    "\n",
    "        _,bin_img = cv2.threshold(blur,0,255,cv2.THRESH_BINARY+cv2.THRESH_OTSU)\n",
    "        binarized_words.append(Image.fromarray(bin_img))\n",
    "\n",
    "    return binarized_words\n",
    "\n"
   ]
  },
  {
   "cell_type": "code",
   "execution_count": 6,
   "metadata": {},
   "outputs": [],
   "source": [
    "import random\n",
    "train_id=random.choice(train_ids)"
   ]
  },
  {
   "cell_type": "code",
   "execution_count": 34,
   "metadata": {
    "scrolled": false
   },
   "outputs": [
    {
     "data": {
      "application/vnd.jupyter.widget-view+json": {
       "model_id": "d0223b9c8fb44e089afeb8fd70890c69",
       "version_major": 2,
       "version_minor": 0
      },
      "text/plain": [
       "HBox(children=(FloatProgress(value=0.0, max=274.0), HTML(value='')))"
      ]
     },
     "metadata": {},
     "output_type": "display_data"
    },
    {
     "name": "stdout",
     "output_type": "stream",
     "text": [
      "\n"
     ]
    },
    {
     "data": {
      "image/png": "[encoded data removed]",
      "text/plain": [
       "<PIL.Image.Image image mode=L size=272x99 at 0x2232BA37A20>"
      ]
     },
     "metadata": {},
     "output_type": "display_data"
    },
    {
     "data": {
      "image/png": "[encoded data removed]",
      "text/plain": [
       "<PIL.Image.Image image mode=L size=260x89 at 0x2232CF059B0>"
      ]
     },
     "metadata": {},
     "output_type": "display_data"
    },
    {
     "data": {
      "image/png": "[encoded data removed]",
      "text/plain": [
       "<PIL.Image.Image image mode=L size=233x89 at 0x2232BA376D8>"
      ]
     },
     "metadata": {},
     "output_type": "display_data"
    },
    {
     "data": {
      "image/png": "[encoded data removed]",
      "text/plain": [
       "<PIL.Image.Image image mode=L size=539x101 at 0x2232BA37908>"
      ]
     },
     "metadata": {},
     "output_type": "display_data"
    },
    {
     "data": {
      "image/png": "[encoded data removed]",
      "text/plain": [
       "<PIL.Image.Image image mode=L size=291x93 at 0x2232BA37EF0>"
      ]
     },
     "metadata": {},
     "output_type": "display_data"
    }
   ],
   "source": [
    "binarized_imgs = get_binarized_words(train_id)\n",
    "\n",
    "for img in binarized_imgs[:5]:\n",
    "    display(img)"
   ]
  },
  {
   "cell_type": "code",
   "execution_count": 28,
   "metadata": {},
   "outputs": [],
   "source": [
    "import numpy as np\n",
    "\n",
    "def n_transitions(img):\n",
    "    n = 0\n",
    "    for row in img:\n",
    "        current = row[0]\n",
    "        for pixel in row[1:]:\n",
    "            if pixel != current:\n",
    "                n += 1\n",
    "                current = pixel\n",
    "    return n_transitions\n",
    "\n",
    "def upper_contour(img):\n",
    "    pass\n",
    "\n",
    "def lower_contour(img):\n",
    "    pass"
   ]
  },
  {
   "cell_type": "code",
   "execution_count": 33,
   "metadata": {},
   "outputs": [
    {
     "data": {
      "application/vnd.jupyter.widget-view+json": {
       "model_id": "7387217ec6e0499b8cfbf2b6324cdb7a",
       "version_major": 2,
       "version_minor": 0
      },
      "text/plain": [
       "HBox(children=(FloatProgress(value=0.0, max=1.0), HTML(value='')))"
      ]
     },
     "metadata": {},
     "output_type": "display_data"
    },
    {
     "name": "stdout",
     "output_type": "stream",
     "text": [
      "\n",
      "{'transitions': [992, 710, 434, 1464, 764, 394, 60, 292, 310, 240, 1052, 1112, 276, 360, 920, 876, 574, 244, 732, 710, 188, 462, 190, 902, 960, 1056, 242, 682, 1158, 452, 740, 564, 560, 162, 612, 1052, 112, 614, 102, 914, 262, 500, 440, 196, 486, 662, 162, 938, 456, 280, 536, 410, 338, 218, 542, 240, 90, 608, 890, 224, 384, 324, 386, 404, 376, 324, 420, 408, 198, 476, 446, 306, 686, 524, 704, 412, 298, 478, 142, 770, 210, 270, 396, 398, 208, 148, 540, 414, 882, 536, 289, 460, 830, 736, 696, 306, 446, 404, 368, 364, 682, 486, 180, 856, 492, 394, 460, 734, 638, 220, 262, 648, 312, 182, 200, 374, 348, 350, 328, 658, 144, 466, 150, 482, 408, 904, 280, 368, 416, 646, 476, 290, 430, 550, 650, 256, 362, 316, 314, 396, 284, 452, 1340, 906, 310, 460, 1126, 1392, 246, 528, 718, 734, 1172, 150, 680, 150, 852, 790, 974, 442, 482, 416, 274, 410, 256, 452, 350, 366, 198, 580, 532, 724, 530, 304, 112, 142, 556, 466, 282, 226, 248, 834, 552, 460, 214, 632, 370, 584, 228, 724, 654, 1228, 164, 222, 222, 398, 500, 314, 420, 254, 426, 478, 112, 276, 224, 414, 410, 352, 240, 268, 1156, 416, 336, 724, 282, 172, 478, 332, 786, 918, 314, 306, 126, 1246, 122, 556, 142, 590, 174, 434, 532, 140, 248, 488, 491, 518, 124, 580, 702, 138, 354, 622, 240, 108, 870, 442, 170, 600, 366, 230, 734, 588, 822, 86, 208, 422, 578, 184, 352, 594, 514, 502, 116, 1012, 158, 716, 454, 420, 810, 442, 288, 364, 130, 1492]}\n"
     ]
    }
   ],
   "source": [
    "features_dict = {\n",
    "    'transitions':n_transitions,\n",
    "}\n",
    "\n",
    "\n",
    "transposed_imgs = [np.transpose(np.array(img)) for img in binarized_imgs]\n",
    "\n",
    "feature_vectors_dict = {}\n",
    "\n",
    "\n",
    "for label, func in tqdm(features_dict.items()):\n",
    "    feature_vec = []\n",
    "    for img in transposed_imgs:\n",
    "        feature_vec.append(func(img))\n",
    "    \n",
    "    feature_vectors_dict[label] = feature_vec\n",
    "    \n",
    "\n",
    "print(feature_vectors_dict)"
   ]
  },
  {
   "cell_type": "code",
   "execution_count": null,
   "metadata": {},
   "outputs": [],
   "source": []
  }
 ],
 "metadata": {
  "kernelspec": {
   "display_name": "Python 3",
   "language": "python",
   "name": "python3"
  },
  "language_info": {
   "codemirror_mode": {
    "name": "ipython",
    "version": 3
   },
   "file_extension": ".py",
   "mimetype": "text/x-python",
   "name": "python",
   "nbconvert_exporter": "python",
   "pygments_lexer": "ipython3",
   "version": "3.7.0"
  }
 },
 "nbformat": 4,
 "nbformat_minor": 4
}
