{
 "cells": [
  {
   "cell_type": "markdown",
   "metadata": {},
   "source": [
    "## Preprocessing"
   ]
  },
  {
   "cell_type": "code",
   "execution_count": 1,
   "metadata": {},
   "outputs": [],
   "source": [
    "with open(\"task/train.txt\") as file:\n",
    "    data = file.read()\n",
    "    train_ids=data.split()\n",
    "with open(\"task/valid.txt\") as file:\n",
    "    data = file.read()\n",
    "    test_ids=data.split()"
   ]
  },
  {
   "cell_type": "code",
   "execution_count": 2,
   "metadata": {},
   "outputs": [],
   "source": [
    "from PIL import Image\n",
    "\n",
    "def get_image(img_id):\n",
    "    image = Image.open(f'images/{img_id}.jpg')\n",
    "    return image"
   ]
  },
  {
   "cell_type": "code",
   "execution_count": 3,
   "metadata": {},
   "outputs": [],
   "source": [
    "from xml.dom import minidom\n",
    "def get_svg_polygons(img_id):\n",
    "    #source: https://stackoverflow.com/a/15857847\n",
    "    doc = minidom.parse(f'ground-truth/locations/{img_id}.svg')\n",
    "    path_strings = [path.getAttribute('d') for path\n",
    "                in doc.getElementsByTagName('path')]\n",
    "    doc.unlink()\n",
    "    polygons=[]\n",
    "    for path_string in path_strings:\n",
    "        splitted_path_string=path_string.split()\n",
    "        temp_coor=[]\n",
    "        polygons.append([])\n",
    "        for i in range(len(splitted_path_string)):\n",
    "            if i%3==0 and i!=0:\n",
    "                polygons[-1].append(tuple(temp_coor))\n",
    "                temp_coor=[]\n",
    "            elif i!=0:\n",
    "                temp_coor.append(float(splitted_path_string[i]))\n",
    "        \n",
    "    return polygons"
   ]
  },
  {
   "cell_type": "code",
   "execution_count": 4,
   "metadata": {},
   "outputs": [],
   "source": [
    "#source: https://stackoverflow.com/a/59208291\n",
    "def crop(image):\n",
    "    y_nonzero, x_nonzero, _ = np.nonzero(image<255)\n",
    "    image = Image.fromarray(image, \"RGB\")\n",
    "    return image.crop((np.min(x_nonzero), np.min(y_nonzero), np.max(x_nonzero), np.max(y_nonzero)))"
   ]
  },
  {
   "cell_type": "code",
   "execution_count": 5,
   "metadata": {
    "scrolled": false
   },
   "outputs": [],
   "source": [
    "import numpy as np\n",
    "from PIL import ImageDraw\n",
    "from IPython.display import display\n",
    "import cv2\n",
    "\n",
    "def get_binarized_words(img_id):\n",
    "    polygons=get_svg_polygons(img_id)\n",
    "\n",
    "    im=get_image(img_id).convert(\"RGB\")\n",
    "    imArray = np.asarray(im)\n",
    "    \n",
    "    binarized_words=[]\n",
    "\n",
    "    for polygon in polygons:\n",
    "        #source: https://stackoverflow.com/a/22650239\n",
    "\n",
    "        maskIm = Image.new('L', (imArray.shape[1], imArray.shape[0]), 0)\n",
    "        ImageDraw.Draw(maskIm).polygon(polygon, outline=1, fill=1)\n",
    "        mask = np.array(maskIm)\n",
    "        newImArray = np.empty(imArray.shape,dtype='uint8')\n",
    "\n",
    "        newImArray[:,:,:3] = imArray[:,:,:3]\n",
    "\n",
    "        newImArray[:,:,0] = np.invert(newImArray[:,:,0])\n",
    "        newImArray[:,:,1] = np.invert(newImArray[:,:,1])\n",
    "        newImArray[:,:,2] = np.invert(newImArray[:,:,2])\n",
    "\n",
    "        newImArray[:,:,0] = newImArray[:,:,0] * mask\n",
    "        newImArray[:,:,1] = newImArray[:,:,1] * mask\n",
    "        newImArray[:,:,2] = newImArray[:,:,2] * mask\n",
    "\n",
    "        newImArray[:,:,0] = np.invert(newImArray[:,:,0])\n",
    "        newImArray[:,:,1] = np.invert(newImArray[:,:,1])\n",
    "        newImArray[:,:,2] = np.invert(newImArray[:,:,2])\n",
    "\n",
    "        newIm=crop(newImArray)\n",
    "\n",
    "        img = np.array(newIm)\n",
    "        img = img[:, :, ::-1].copy() \n",
    "        img = cv2.cvtColor(img, cv2.COLOR_BGR2GRAY)\n",
    "\n",
    "        blur = cv2.GaussianBlur(img,(5,5),0)\n",
    "\n",
    "        _,bin_img = cv2.threshold(blur,0,255,cv2.THRESH_BINARY+cv2.THRESH_OTSU)\n",
    "        binarized_words.append(Image.fromarray(bin_img))\n",
    "\n",
    "    return binarized_words\n",
    "\n"
   ]
  },
  {
   "cell_type": "code",
   "execution_count": 6,
   "metadata": {},
   "outputs": [],
   "source": [
    "import random\n",
    "train_id=random.choice(train_ids)"
   ]
  },
  {
   "cell_type": "code",
   "execution_count": 7,
   "metadata": {
    "scrolled": false
   },
   "outputs": [
    {
     "data": {
      "application/vnd.jupyter.widget-view+json": {
       "model_id": "721f02187faf42138b04e939c811e8d7",
       "version_major": 2,
       "version_minor": 0
      },
      "text/plain": [
       "HBox(children=(FloatProgress(value=0.0, max=259.0), HTML(value='')))"
      ]
     },
     "metadata": {},
     "output_type": "display_data"
    },
    {
     "name": "stdout",
     "output_type": "stream",
     "text": [
      "\n"
     ]
    },
    {
     "data": {
      "image/png": "[encoded data removed]",
      "text/plain": [
       "<PIL.Image.Image image mode=L size=187x77 at 0x1A8298F7B88>"
      ]
     },
     "metadata": {},
     "output_type": "display_data"
    },
    {
     "data": {
      "image/png": "[encoded data removed]",
      "text/plain": [
       "<PIL.Image.Image image mode=L size=325x104 at 0x1A8298F70C8>"
      ]
     },
     "metadata": {},
     "output_type": "display_data"
    },
    {
     "data": {
      "image/png": "[encoded data removed]",
      "text/plain": [
       "<PIL.Image.Image image mode=L size=299x91 at 0x1A8298F7A88>"
      ]
     },
     "metadata": {},
     "output_type": "display_data"
    },
    {
     "data": {
      "image/png": "[encoded data removed]",
      "text/plain": [
       "<PIL.Image.Image image mode=L size=213x78 at 0x1A8298F2C48>"
      ]
     },
     "metadata": {},
     "output_type": "display_data"
    },
    {
     "data": {
      "image/png": "[encoded data removed]",
      "text/plain": [
       "<PIL.Image.Image image mode=L size=527x95 at 0x1A8298F7B48>"
      ]
     },
     "metadata": {},
     "output_type": "display_data"
    }
   ],
   "source": [
    "binarized_imgs = get_binarized_words(train_id)\n",
    "\n",
    "for img in binarized_imgs[:5]:\n",
    "    display(img)"
   ]
  },
  {
   "cell_type": "code",
   "execution_count": 24,
   "metadata": {},
   "outputs": [
    {
     "data": {
      "image/png": "[encoded data removed]",
      "text/plain": [
       "<PIL.Image.Image image mode=L size=77x187 at 0x1A82AD6F548>"
      ]
     },
     "metadata": {},
     "output_type": "display_data"
    }
   ],
   "source": [
    "# transpose the images so they we can iterate over the array as a sliding window\n",
    "transposed_imgs = [np.transpose(np.array(img)) for img in binarized_imgs]\n",
    "display(Image.fromarray(transposed_imgs[0]))"
   ]
  },
  {
   "cell_type": "code",
   "execution_count": 95,
   "metadata": {},
   "outputs": [
    {
     "name": "stdout",
     "output_type": "stream",
     "text": [
      "0.1672189349112426\n"
     ]
    }
   ],
   "source": [
    "import numpy as np\n",
    "\n",
    "def n_transitions(img):\n",
    "    n = 0\n",
    "    for row in img:\n",
    "        current = row[0]\n",
    "        for pixel in row[1:]:\n",
    "            if pixel != current:\n",
    "                n += 1\n",
    "                current = pixel\n",
    "    return n\n",
    "\n",
    "\n",
    "def upper_contour(img):\n",
    "    \"\"\"\n",
    "    Return an index vector per column (IE window) in the image of the upper contour\n",
    "    \"\"\"\n",
    "    cnt_indices = []\n",
    "    for row in img:\n",
    "        row_index = np.argmin(row)\n",
    "        if row[row_index] != 0:\n",
    "            cnt_indices.append(-1)\n",
    "        else:\n",
    "            cnt_indices.append(row_index)\n",
    "    \n",
    "        \n",
    "    return cnt_indices\n",
    "\n",
    "def lower_contour(img):\n",
    "    # flip the img along the pixel rows axis \n",
    "    flipped = np.flip(img, axis=1)\n",
    "    \n",
    "    # when flipped, upper_contour will return the contour of the pixel rows sorted in inverse order\n",
    "    reversed_contour = upper_contour(flipped)\n",
    "    row_size = img.shape[0]\n",
    "        \n",
    "    for i in range(row_size):\n",
    "        if reversed_contour[i] != -1:\n",
    "            reversed_contour[i] = row_size - reversed_contour[i]\n",
    "        \n",
    "    return reversed_contour\n",
    "\n",
    "def ratio_black_pixels(img):\n",
    "    zeros = np.where(img==0)\n",
    "    img_size = img.shape[0] * img.shape[1]\n",
    "    return len(zeros[0]) / img_size"
   ]
  },
  {
   "cell_type": "code",
   "execution_count": 98,
   "metadata": {
    "scrolled": false
   },
   "outputs": [
    {
     "data": {
      "application/vnd.jupyter.widget-view+json": {
       "model_id": "74b58e076d0343f98ec4c070300ebdf4",
       "version_major": 2,
       "version_minor": 0
      },
      "text/plain": [
       "HBox(children=(FloatProgress(value=0.0, max=4.0), HTML(value='')))"
      ]
     },
     "metadata": {},
     "output_type": "display_data"
    },
    {
     "name": "stdout",
     "output_type": "stream",
     "text": [
      "\n",
      "[0.18348496423362734, 0.1672189349112426, 0.17733103017383953, 0.13259901288070303, 0.1980025966243883, 0.21328448550493787, 0.287175234936429, 0.13978378378378378, 0.08966565349544073, 0.09991809991809991, 0.13039940828402366, 0.11554512847120395, 0.10732562020246969, 0.06281455671699575, 0.12692307692307692, 0.11321199865183687, 0.0772130211307824, 0.0589622641509434, 0.09164275466284075, 0.12104492737304358, 0.10917440252814536, 0.10387688665285587, 0.10758724256292906, 0.16046353101567826, 0.8411269001982815, 0.12320983810709839, 0.10862068965517241, 0.07855046057293248, 0.08399215026633025, 0.1406273831918247, 0.094039783264846, 0.06560773480662983, 0.09884209087536368, 0.0580041105275177, 0.07810421286031043, 0.07665805340223945, 0.12292767201568158, 0.04440759167127326, 0.0975424439320897, 0.08144329896907217, 0.08401570728440534, 0.08720777515103756, 0.09727361246348588, 0.11958041958041958, 0.10371613521937185, 0.07287131107885825, 0.06373626373626373, 0.05227743271221532, 0.12664816099930604, 0.12615769712140176, 0.06854838709677419, 0.07610619469026549, 0.09185049019607844, 0.13314705882352942, 0.07015401953418482, 0.09711997933617461, 0.11237911025145067, 0.05355672848772457, 0.09839015151515151, 0.07677902621722846, 0.08797835330498648, 0.13231382978723405, 0.09316732828100566, 0.05181444070332959, 0.08800559505769903, 0.12333145328069187, 0.09567901234567901, 0.09913909066451439, 0.14101709971130358, 0.10486409547532367, 0.07992125984251969, 0.1221227621483376, 0.10841472577009767, 0.10124157971205917, 0.07652946045601626, 0.08929509402248136, 0.11049316331233676, 0.14657232704402515, 0.09242271505376344, 0.0577319587628866, 0.07751357423703427, 0.05610119047619048, 0.0985739606832098, 0.08280813055636713, 0.09055251561667715, 0.09828354513946196, 0.10504694835680752, 0.08413848631239935, 0.15563845401174167, 0.15744076864286494, 0.09613649413501764, 0.09930295464003329, 0.10429317140726536, 0.07829255596043727, 0.11306296537265959, 0.07160804020100503, 0.08012807684610766, 0.06589411497386957, 0.05031663788140472, 0.0884297520661157, 0.10787835249042145, 0.08172215108834827, 0.10401048492791612, 0.044921608725289705, 0.09611586570111916, 0.08533140166606303, 0.11431242563318035, 0.08518114624984854, 0.060132890365448506, 0.09656282969626298, 0.10767552759740259, 0.06644041247878867, 0.055689877498388135, 0.07210923055041957, 0.05399737876802097, 0.05662272441933459, 0.07403756957328386, 0.06605351170568562, 0.0748976656709813, 0.0983454518474551, 0.05427722118242871, 0.06737637362637362, 0.09348558284728498, 0.07522727272727273, 0.09956192751891677, 0.10171087741327892, 0.07580165289256198, 0.0889240506329114, 0.053092765722565285, 0.09364301276065982, 0.08421712852092599, 0.08975320032291546, 0.09135972461273666, 0.09074590076090451, 0.1018421052631579, 0.0740580048726763, 0.11549295774647887, 0.07793845012977382, 0.10624509033778476, 0.07094430992736077, 0.09619293712316968, 0.06344264563442646, 0.06910326289852908, 0.08716725650100016, 0.06782407407407408, 0.10879950317680218, 0.031695331695331695, 0.08178356077435735, 0.0418918017477153, 0.08526470588235294, 0.0701794403892944, 0.07963104002707963, 0.1258327781479014, 0.1374113475177305, 0.09747474747474748, 0.07621290626471974, 0.06912492521890466, 0.08875, 0.0927169202005609, 0.13541990841595164, 0.07734438984438985, 0.09017036294714827, 0.08818851251840942, 0.11037046532495834, 0.05667871647253091, 0.07979015433416703, 0.08238969152674737, 0.09896907216494845, 0.09881232290347863, 0.10069487917866533, 0.05555555555555555, 0.0980543821026953, 0.13103936938133828, 0.08400402414486921, 0.11680161943319838, 0.08916312520431513, 0.0796875, 0.08385896813844412, 0.0656599804672827, 0.07635762721522595, 0.08270676691729323, 0.06846414455110107, 0.0974948347107438, 0.07028281975517096, 0.06714325763947294, 0.12315567600120446, 0.10541909071320836, 0.09881228130698338, 0.10277983234714004, 0.07572463768115942, 0.09448717948717948, 0.08458215962441315, 0.6659541391371939, 0.09835076427996782, 0.06712245977185163, 0.11886628747710402, 0.12086028208524897, 0.08841857730746619, 0.07985694794724439, 0.1176855003403676, 0.09549226840686623, 0.07198673928486858, 0.057766721945826424, 0.10742373174315098, 0.13194915254237288, 0.08028083028083029, 0.08244301994301995, 0.08032303830623158, 0.07715950566690145, 0.06818862629479559, 0.08016688061617458, 0.06809917355371901, 0.05225057339449541, 0.09151515151515152, 0.6968875113005295, 0.10746538229981939, 0.10040144357487531, 0.04664772727272727, 0.08225597931480284, 0.08416342727567218, 0.0879871929068407, 0.1187745483110762, 0.10200289077018378, 0.09666733300968101, 0.11440840917831047, 0.07328150930212246, 0.0670157892664488, 0.06840329835082459, 0.09452561168808309, 0.08431152393589875, 0.0668411432369558, 0.08884705038551192, 0.07540884312537856, 0.10580083952865017, 0.08996718237224566, 0.09418150238818931, 0.12082158679017317, 0.13497847919655667, 0.09017259598450159, 0.08203555136070473, 0.0989968080255358, 0.08501715592832634, 0.10487095601599418, 0.07890196078431373, 0.0728058510638298, 0.07408541252104699, 0.0760905760905761, 0.07699843260188088, 0.10106382978723404, 0.08838444099749433, 0.10166484716157205, 0.09711779448621553, 0.12610275038920601, 0.055662862159789286, 0.08199703543996766, 0.06609195402298851, 0.08665780141843972, 0.08007856341189674, 0.12567818654775176]\n"
     ]
    }
   ],
   "source": [
    "from PIL import Image\n",
    "\n",
    "features_dict = {\n",
    "    'transitions':n_transitions,\n",
    "    'upper_contour':upper_contour,\n",
    "    'lower_contour':lower_contour,\n",
    "    'ratio_black_pixels':ratio_black_pixels,\n",
    "}\n",
    "\n",
    "\n",
    "feature_vectors_dict = {}\n",
    "\n",
    "\n",
    "for label, func in features_dict.items():\n",
    "    feature_vec = []\n",
    "    for img in transposed_imgs:\n",
    "        feature_vec.append(func(img))\n",
    "    \n",
    "    feature_vectors_dict[label] = feature_vec\n",
    "    \n",
    "print(feature_vectors_dict['ratio_black_pixels'])"
   ]
  },
  {
   "cell_type": "code",
   "execution_count": null,
   "metadata": {},
   "outputs": [],
   "source": []
  }
 ],
 "metadata": {
  "kernelspec": {
   "display_name": "Python 3",
   "language": "python",
   "name": "python3"
  },
  "language_info": {
   "codemirror_mode": {
    "name": "ipython",
    "version": 3
   },
   "file_extension": ".py",
   "mimetype": "text/x-python",
   "name": "python",
   "nbconvert_exporter": "python",
   "pygments_lexer": "ipython3",
   "version": "3.7.7"
  }
 },
 "nbformat": 4,
 "nbformat_minor": 4
}
