{
 "cells": [
  {
   "cell_type": "markdown",
   "metadata": {},
   "source": [
    "## Preprocessing"
   ]
  },
  {
   "cell_type": "code",
   "execution_count": 1,
   "metadata": {},
   "outputs": [],
   "source": [
    "with open(\"task/train.txt\") as file:\n",
    "    data = file.read()\n",
    "    train_ids=data.split()\n",
    "with open(\"task/valid.txt\") as file:\n",
    "    data = file.read()\n",
    "    test_ids=data.split()"
   ]
  },
  {
   "cell_type": "code",
   "execution_count": 2,
   "metadata": {},
   "outputs": [],
   "source": [
    "from PIL import Image\n",
    "\n",
    "def get_image(img_id):\n",
    "    image = Image.open(f'images/{img_id}.jpg')\n",
    "    return image"
   ]
  },
  {
   "cell_type": "code",
   "execution_count": 3,
   "metadata": {},
   "outputs": [],
   "source": [
    "from xml.dom import minidom\n",
    "def get_svg_polygons(img_id):\n",
    "    #source: https://stackoverflow.com/a/15857847\n",
    "    doc = minidom.parse(f'ground-truth/locations/{img_id}.svg')\n",
    "    path_strings = [path.getAttribute('d') for path\n",
    "                in doc.getElementsByTagName('path')]\n",
    "    doc.unlink()\n",
    "    polygons=[]\n",
    "    for path_string in path_strings:\n",
    "        splitted_path_string=path_string.split()\n",
    "        temp_coor=[]\n",
    "        polygons.append([])\n",
    "        for i in range(len(splitted_path_string)):\n",
    "            if i%3==0 and i!=0:\n",
    "                polygons[-1].append(tuple(temp_coor))\n",
    "                temp_coor=[]\n",
    "            elif i!=0:\n",
    "                temp_coor.append(float(splitted_path_string[i]))\n",
    "        \n",
    "    return polygons"
   ]
  },
  {
   "cell_type": "code",
   "execution_count": 4,
   "metadata": {},
   "outputs": [],
   "source": [
    "#source: https://stackoverflow.com/a/59208291\n",
    "def crop(image):\n",
    "    y_nonzero, x_nonzero, _ = np.nonzero(image<255)\n",
    "    image = Image.fromarray(image, \"RGB\")\n",
    "    return image.crop((np.min(x_nonzero), np.min(y_nonzero), np.max(x_nonzero), np.max(y_nonzero)))"
   ]
  },
  {
   "cell_type": "code",
   "execution_count": 5,
   "metadata": {
    "scrolled": false
   },
   "outputs": [],
   "source": [
    "import numpy as np\n",
    "from PIL import ImageDraw\n",
    "from IPython.display import display\n",
    "import cv2\n",
    "\n",
    "def get_binarized_words(img_id):\n",
    "    polygons=get_svg_polygons(img_id)\n",
    "\n",
    "    im=get_image(img_id).convert(\"RGB\")\n",
    "    imArray = np.asarray(im)\n",
    "    \n",
    "    binarized_words=[]\n",
    "\n",
    "    for polygon in polygons:\n",
    "        #source: https://stackoverflow.com/a/22650239\n",
    "\n",
    "        maskIm = Image.new('L', (imArray.shape[1], imArray.shape[0]), 0)\n",
    "        ImageDraw.Draw(maskIm).polygon(polygon, outline=1, fill=1)\n",
    "        mask = np.array(maskIm)\n",
    "        newImArray = np.empty(imArray.shape,dtype='uint8')\n",
    "\n",
    "        newImArray[:,:,:3] = imArray[:,:,:3]\n",
    "\n",
    "        newImArray = np.invert(newImArray)\n",
    "\n",
    "        newImArray[:,:,0] = newImArray[:,:,0] * mask\n",
    "        newImArray[:,:,1] = newImArray[:,:,1] * mask\n",
    "        newImArray[:,:,2] = newImArray[:,:,2] * mask\n",
    "\n",
    "        newImArray = np.invert(newImArray)\n",
    "\n",
    "        newIm=crop(newImArray)\n",
    "\n",
    "        img = np.array(newIm)\n",
    "        img = img[:, :, ::-1].copy() \n",
    "        img = cv2.cvtColor(img, cv2.COLOR_BGR2GRAY)\n",
    "\n",
    "        blur = cv2.GaussianBlur(img,(5,5),0)\n",
    "\n",
    "        _,bin_img = cv2.threshold(blur,0,255,cv2.THRESH_BINARY+cv2.THRESH_OTSU)\n",
    "        binarized_words.append(Image.fromarray(bin_img))\n",
    "\n",
    "    return binarized_words\n",
    "\n"
   ]
  },
  {
   "cell_type": "code",
   "execution_count": 6,
   "metadata": {},
   "outputs": [],
   "source": [
    "def get_ground_truth_text(img_id):\n",
    "    with open(\"ground-truth/transcription.txt\") as file:\n",
    "        data = file.read()\n",
    "    ground_truth_text=[]\n",
    "    for line in data.split('\\n')[:-1]:\n",
    "        doc_id=line.split('-')[0]\n",
    "\n",
    "        if int(doc_id)==int(img_id):\n",
    "            ground_truth_text.append(line.split()[-1])\n",
    "            \n",
    "    return np.array(ground_truth_text)"
   ]
  },
  {
   "cell_type": "code",
   "execution_count": 7,
   "metadata": {},
   "outputs": [],
   "source": [
    "import random\n",
    "train_id=random.choice(train_ids)\n",
    "test_id=random.choice(test_ids)"
   ]
  },
  {
   "cell_type": "code",
   "execution_count": 8,
   "metadata": {
    "scrolled": false
   },
   "outputs": [
    {
     "data": {
      "image/png": "[encoded data removed]",
      "text/plain": [
       "<PIL.Image.Image image mode=L size=187x90 at 0x150BC5F7AF0>"
      ]
     },
     "metadata": {},
     "output_type": "display_data"
    },
    {
     "data": {
      "image/png": "[encoded data removed]",
      "text/plain": [
       "<PIL.Image.Image image mode=L size=273x105 at 0x150BC5F7B50>"
      ]
     },
     "metadata": {},
     "output_type": "display_data"
    },
    {
     "data": {
      "image/png": "[encoded data removed]",
      "text/plain": [
       "<PIL.Image.Image image mode=L size=277x95 at 0x150A5014910>"
      ]
     },
     "metadata": {},
     "output_type": "display_data"
    },
    {
     "data": {
      "image/png": "[encoded data removed]",
      "text/plain": [
       "<PIL.Image.Image image mode=L size=254x82 at 0x150BC5F7BE0>"
      ]
     },
     "metadata": {},
     "output_type": "display_data"
    },
    {
     "data": {
      "image/png": "[encoded data removed]",
      "text/plain": [
       "<PIL.Image.Image image mode=L size=573x87 at 0x150BC5F7C10>"
      ]
     },
     "metadata": {},
     "output_type": "display_data"
    }
   ],
   "source": [
    "binarized_imgs_train = get_binarized_words(train_id)\n",
    "binarized_imgs_test = get_binarized_words(test_id)\n",
    "\n",
    "for img in binarized_imgs_train[:5]:\n",
    "    display(img)"
   ]
  },
  {
   "cell_type": "code",
   "execution_count": 9,
   "metadata": {},
   "outputs": [
    {
     "name": "stdout",
     "output_type": "stream",
     "text": [
      "s_2-s_7-s_0-s_pt\n",
      "L-e-t-t-e-r-s-s_cm\n",
      "O-r-d-e-r-s\n",
      "a-n-d\n",
      "I-n-s-t-r-u-c-t-i-o-n-s-s_pt\n"
     ]
    }
   ],
   "source": [
    "ground_truth_text_train=get_ground_truth_text(train_id)\n",
    "ground_truth_text_test=get_ground_truth_text(test_id)\n",
    "\n",
    "for word in ground_truth_text_train[:5]:\n",
    "    print(word)"
   ]
  },
  {
   "cell_type": "markdown",
   "metadata": {},
   "source": [
    "## Features creation"
   ]
  },
  {
   "cell_type": "code",
   "execution_count": 10,
   "metadata": {},
   "outputs": [],
   "source": [
    "import numpy as np\n",
    "\n",
    "def n_transitions(img):\n",
    "    n = 0\n",
    "    for row in img:\n",
    "        current = row[0]\n",
    "        for pixel in row[1:]:\n",
    "            if pixel != current:\n",
    "                n += 1\n",
    "                current = pixel\n",
    "    return n\n",
    "\n",
    "\n",
    "def upper_contour(img):\n",
    "    \"\"\"\n",
    "    Return an index vector per column (IE window) in the image of the upper contour\n",
    "    \"\"\"\n",
    "    cnt_indices = []\n",
    "    for row in img:\n",
    "        row_index = np.argmin(row)\n",
    "        if row[row_index] != 0:\n",
    "            cnt_indices.append(-1)\n",
    "        else:\n",
    "            cnt_indices.append(row_index)\n",
    "    \n",
    "        \n",
    "    return cnt_indices\n",
    "\n",
    "def lower_contour(img):\n",
    "    # flip the img along the pixel rows axis \n",
    "    flipped = np.flip(img, axis=1)\n",
    "    \n",
    "    # when flipped, upper_contour will return the contour of the pixel rows sorted in inverse order\n",
    "    reversed_contour = upper_contour(flipped)\n",
    "    row_size = img.shape[0]\n",
    "        \n",
    "    for i in range(row_size):\n",
    "        if reversed_contour[i] != -1:\n",
    "            reversed_contour[i] = row_size - reversed_contour[i]\n",
    "        \n",
    "    return reversed_contour\n",
    "\n",
    "def ratio_black_pixels(img):\n",
    "    zeros = np.where(img==0)\n",
    "    img_size = img.shape[0] * img.shape[1]\n",
    "    return len(zeros[0]) / img_size"
   ]
  },
  {
   "cell_type": "code",
   "execution_count": 11,
   "metadata": {
    "scrolled": false
   },
   "outputs": [],
   "source": [
    "from PIL import Image\n",
    "from collections import defaultdict\n",
    "from scipy.stats import zscore\n",
    "\n",
    "def create_feature_vector(binarized_imgs):\n",
    "    # transpose the images so they we can iterate over the array as a sliding window\n",
    "    transposed_imgs = [np.transpose(np.array(img)) for img in binarized_imgs]\n",
    "    \n",
    "    features_dict = {\n",
    "        'transitions': (n_transitions, int),\n",
    "        'upper_contour': (upper_contour, (list,list)),\n",
    "        'lower_contour': (lower_contour, (list,list)),\n",
    "        'ratio_black_pixels': (ratio_black_pixels, float),\n",
    "    }\n",
    "\n",
    "    feature_vectors_dict = defaultdict(list)\n",
    "    for label, (func, dtype) in features_dict.items():\n",
    "        for img in transposed_imgs:\n",
    "            feature_vectors_dict[label].append(func(img))\n",
    "    feature_vectors_dict = dict(feature_vectors_dict)\n",
    "\n",
    "    # z-scorify\n",
    "    for label, feature in feature_vectors_dict.items():\n",
    "        if features_dict[label][1] == (list,list):\n",
    "            # flatten 2d lists (scipy zscore doesn't work on 2d array of different size)\n",
    "            value_list = []\n",
    "            for i in feature:\n",
    "                i = np.array(i)\n",
    "                i = i.tolist()\n",
    "                value_list.extend(i)\n",
    "            value_list = np.array(value_list)\n",
    "            mean_ = np.mean(value_list)\n",
    "            std_ = np.std(value_list)\n",
    "            feature = [np.array(i) for i in feature]\n",
    "            zscored = []\n",
    "            for f in feature:\n",
    "                r = (f - mean_) / std_\n",
    "                zscored.append(r)\n",
    "            feature_vectors_dict[label] = np.array(zscored)\n",
    "        else:\n",
    "            feature = np.array(feature)\n",
    "            feature_vectors_dict[label] = [np.array([i]) for i in zscore(feature)]\n",
    "\n",
    "    # create the feature vector\n",
    "    imgs_feature_vectors = defaultdict(list)\n",
    "    for label, imgs in feature_vectors_dict.items():\n",
    "        for i, data in enumerate(imgs):\n",
    "            imgs_feature_vectors[i].extend(data.tolist())\n",
    "    return list(dict(imgs_feature_vectors).values())"
   ]
  },
  {
   "cell_type": "code",
   "execution_count": 12,
   "metadata": {},
   "outputs": [],
   "source": [
    "train_vectors = create_feature_vector(binarized_imgs_train)\n",
    "test_vectors = create_feature_vector(binarized_imgs_test)"
   ]
  },
  {
   "cell_type": "markdown",
   "metadata": {},
   "source": [
    "## Distance evaluation / Testing"
   ]
  },
  {
   "cell_type": "code",
   "execution_count": 13,
   "metadata": {},
   "outputs": [
    {
     "name": "stdout",
     "output_type": "stream",
     "text": [
      "0.0\n",
      "269.8508984415651\n",
      "256.4389005356069\n"
     ]
    }
   ],
   "source": [
    "from fastdtw import fastdtw\n",
    "from scipy.spatial.distance import euclidean\n",
    "\n",
    "for i in range(3):\n",
    "    print(fastdtw(train_vectors[0], train_vectors[i], dist=euclidean)[0])"
   ]
  },
  {
   "cell_type": "code",
   "execution_count": null,
   "metadata": {
    "scrolled": true
   },
   "outputs": [],
   "source": [
    "n = 10\n",
    "test_vectors_ = test_vectors[:n]\n",
    "train_vectors_ = train_vectors[:n]\n",
    "\n",
    "test_vectors_predicted = []\n",
    "\n",
    "for test_vector in test_vectors_:\n",
    "    dists = np.array([fastdtw(train_vector, test_vector, dist=euclidean)[0] for train_vector in train_vectors_])\n",
    "    dists_sorted = sorted(range(len(dists)), key=lambda x:dists[x])\n",
    "    test_vectors_predicted.append(ground_truth_text_train[dists_sorted])"
   ]
  },
  {
   "cell_type": "code",
   "execution_count": 18,
   "metadata": {},
   "outputs": [
    {
     "data": {
      "image/png": "[encoded data removed]",
      "text/plain": [
       "<Figure size 432x288 with 1 Axes>"
      ]
     },
     "metadata": {
      "needs_background": "light"
     },
     "output_type": "display_data"
    }
   ],
   "source": [
    "precisions = []\n",
    "recalls = []\n",
    "\n",
    "for k in range(1, len(test_vectors_predicted[0])):\n",
    "    test_predicted_top_k = [i[0:k] for i in test_vectors_predicted]\n",
    "    tp = 0\n",
    "    fp = 0\n",
    "    fn = 0\n",
    "    tn = 0\n",
    "    for i, predicted_top_k in enumerate(test_predicted_top_k):\n",
    "        truth = ground_truth_text_test[i]\n",
    "        if truth in predicted_top_k:\n",
    "            tp += 1\n",
    "        \n",
    "        # todo : find a way to compute the precision and recall with this top predictions\n",
    "        precision = 0\n",
    "        recall = 0\n",
    "        \n",
    "        precisions.append(precision)\n",
    "        recalls.append(recall)\n",
    "\n",
    "import matplotlib.pyplot as plt\n",
    "\n",
    "plt.plot(precisions, recalls)\n",
    "plt.xlim(0, 1)\n",
    "plt.ylim(0, 1)\n",
    "plt.show()"
   ]
  },
  {
   "cell_type": "code",
   "execution_count": null,
   "metadata": {},
   "outputs": [],
   "source": []
  }
 ],
 "metadata": {
  "kernelspec": {
   "display_name": "Python 3",
   "language": "python",
   "name": "python3"
  },
  "language_info": {
   "codemirror_mode": {
    "name": "ipython",
    "version": 3
   },
   "file_extension": ".py",
   "mimetype": "text/x-python",
   "name": "python",
   "nbconvert_exporter": "python",
   "pygments_lexer": "ipython3",
   "version": "3.8.2"
  }
 },
 "nbformat": 4,
 "nbformat_minor": 4
}
