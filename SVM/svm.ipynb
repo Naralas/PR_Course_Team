{
 "cells": [
  {
   "cell_type": "markdown",
   "metadata": {},
   "source": [
    "Pattern Recognition 2020 - Ex 2a : SVM\n",
    "===\n",
    "Team chaussette"
   ]
  },
  {
   "cell_type": "code",
   "execution_count": 3,
   "metadata": {},
   "outputs": [],
   "source": [
    "import numpy as np\n",
    "import time\n",
    "from sklearn import svm\n",
    "from sklearn.model_selection import cross_val_score\n",
    "from tqdm.notebook import tqdm"
   ]
  },
  {
   "cell_type": "markdown",
   "metadata": {},
   "source": [
    "### Data loading"
   ]
  },
  {
   "cell_type": "code",
   "execution_count": 9,
   "metadata": {},
   "outputs": [],
   "source": [
    "# SVM\n",
    "\n",
    "#Loading csv data to numpy arrays\n",
    "def load_data(file, labels=True):\n",
    "    with open(file,\"r\") as csv:\n",
    "        data = []\n",
    "        for line in tqdm(csv):\n",
    "            data.append(line.strip().split(\",\"))\n",
    "        data = np.asarray(data, dtype=np.int)\n",
    "        if(labels):\n",
    "            samples =  data[:,1:]\n",
    "            labels = data[:,0]\n",
    "            return samples, labels\n",
    "        else:\n",
    "            samples = data[:,:]\n",
    "        return samples"
   ]
  },
  {
   "cell_type": "code",
   "execution_count": 10,
   "metadata": {},
   "outputs": [
    {
     "data": {
      "application/vnd.jupyter.widget-view+json": {
       "model_id": "7b67d8b0aa6a42a8b1eab14a033ab3cf",
       "version_major": 2,
       "version_minor": 0
      },
      "text/plain": [
       "HBox(children=(FloatProgress(value=1.0, bar_style='info', max=1.0), HTML(value='')))"
      ]
     },
     "metadata": {},
     "output_type": "display_data"
    },
    {
     "name": "stdout",
     "output_type": "stream",
     "text": [
      "\n",
      "Training set size : 60000\n"
     ]
    }
   ],
   "source": [
    "train_file = 'data/mnist_train.csv'\n",
    "X_train, y_train = load_data(train_file, labels=True)\n",
    "print(f\"Training set size : {len(X_train)}\")"
   ]
  },
  {
   "cell_type": "code",
   "execution_count": 11,
   "metadata": {},
   "outputs": [
    {
     "data": {
      "application/vnd.jupyter.widget-view+json": {
       "model_id": "45766013af164cc8ab0efabaa8ee6285",
       "version_major": 2,
       "version_minor": 0
      },
      "text/plain": [
       "HBox(children=(FloatProgress(value=1.0, bar_style='info', max=1.0), HTML(value='')))"
      ]
     },
     "metadata": {},
     "output_type": "display_data"
    },
    {
     "name": "stdout",
     "output_type": "stream",
     "text": [
      "\n",
      "Test set size : 10000\n"
     ]
    }
   ],
   "source": [
    "test_file = 'data/mnist_test.csv'\n",
    "X_test, y_test = load_data(test_file, labels=True)\n",
    "print(f\"Test set size : {len(X_test)}\")"
   ]
  },
  {
   "cell_type": "markdown",
   "metadata": {},
   "source": [
    "### Grid Search"
   ]
  },
  {
   "cell_type": "code",
   "execution_count": 12,
   "metadata": {},
   "outputs": [
    {
     "data": {
      "text/plain": [
       "\"\\nStarting Grid search...\\nBest parameters set found on training set using CV :\\n{'C': 1.0, 'degree': 2, 'gamma': 1.0, 'kernel': 'poly'}\\n\""
      ]
     },
     "execution_count": 12,
     "metadata": {},
     "output_type": "execute_result"
    }
   ],
   "source": [
    "from sklearn.model_selection import GridSearchCV\n",
    "# enable or disable grid search\n",
    "test_grid_search = False\n",
    "\n",
    "# we wanted to test more parameters but had to limit to those due to very long training time\n",
    "parameters = {\n",
    "    'kernel':['rbf', 'poly'], \n",
    "    'C':[1.0],\n",
    "    'gamma':[1.0],\n",
    "    'degree':[2],\n",
    "}\n",
    "\n",
    "if test_grid_search:\n",
    "    svc = svm.SVC()\n",
    "    clf = GridSearchCV(svc, parameters, n_jobs=4)\n",
    "    \n",
    "    print(\"Starting Grid search...\")\n",
    "    clf.fit(X_train, y_train)\n",
    "    \n",
    "    print(\"Best parameters set found on training set using CV :\")\n",
    "    print(clf.best_params_)\n",
    "    \n",
    "\"\"\"\n",
    "Starting Grid search...\n",
    "Best parameters set found on training set using CV :\n",
    "{'C': 1.0, 'degree': 2, 'gamma': 1.0, 'kernel': 'poly'}\n",
    "\"\"\""
   ]
  },
  {
   "cell_type": "markdown",
   "metadata": {},
   "source": [
    "### Evaluation"
   ]
  },
  {
   "cell_type": "code",
   "execution_count": null,
   "metadata": {},
   "outputs": [],
   "source": [
    "from sklearn.metrics import plot_confusion_matrix\n",
    "import time\n",
    "clf = svm.SVC(kernel='poly', gamma=1.0, C = 1.0, degree=2)\n",
    "\n",
    "\n",
    "print(\"Starting to train the classifier...\")\n",
    "start_time = time.time()\n",
    "clf.fit(X_train, y_train)\n",
    "\n",
    "print(f\"Training done in {(time.time() - start_time)*1000:.1f} minutes\")"
   ]
  },
  {
   "cell_type": "code",
   "execution_count": null,
   "metadata": {},
   "outputs": [],
   "source": [
    "predictions = clf.predict(X_test)\n",
    "accuracy = clf.score(X_test, y_test)\n",
    "\n",
    "print(f\"Accuracy on the test set : {accuracy*100:.2f} %\")"
   ]
  },
  {
   "cell_type": "code",
   "execution_count": 22,
   "metadata": {},
   "outputs": [
    {
     "data": {
      "image/png": "[encoded data removed]",
      "text/plain": [
       "<Figure size 432x288 with 2 Axes>"
      ]
     },
     "metadata": {
      "needs_background": "light"
     },
     "output_type": "display_data"
    }
   ],
   "source": [
    "import matplotlib.pyplot as plt\n",
    "\n",
    "%matplotlib inline\n",
    "\n",
    "class_names = [str(i) for i in range(1, 11)]\n",
    "disp = plot_confusion_matrix(clf, X_test, y_test, display_labels=class_names, cmap=plt.cm.Blues)\n",
    "plt.show()"
   ]
  },
  {
   "cell_type": "markdown",
   "metadata": {},
   "source": [
    "print (\"Starting with model generation.\")\n",
    "calcStart = int(round(time.time() * 1000))\n",
    "#clf = svm.SVC(kernel='linear', C = 0.0001)\n",
    "clf = svm.SVC(kernel='poly', gamma=1.0, C = 1.0, degree=2)\n",
    "#clf = svm.SVC(kernel='rbf', gamma=0.001, C = 1.0)\n",
    "#clf = svm.SVC(kernel='sigmoid', gamma=0.0000001, C = 1.0)\n",
    "predictions = []\n",
    "if(not cross_validation):\n",
    "    clf.fit(X_train, y_train)\n",
    "    predictions = clf.predict(X_test)\n",
    "    print (\"Model generated. Time taken for calculations: \",int(round(time.time() * 1000)) - calcStart, \" ms\")\n",
    "    #print(\"Accuracy: \", clf.score(X_test,y_test))\n",
    "else:\n",
    "    scores = cross_val_score(clf, X_train, y_train, cv=10)\n",
    "    print(\"Average Accuracy: %0.4f (+/- %0.4f)\" % (scores.mean(), scores.std() * 2))\n",
    "\n",
    "print (\"Application finished in : \",int(round(time.time() * 1000)) - start, \" ms\")\n"
   ]
  },
  {
   "cell_type": "code",
   "execution_count": null,
   "metadata": {},
   "outputs": [],
   "source": [
    "validation_file_name = \"predictions.txt\"\n",
    "with open(validation_file_name, \"w\") as validation_file:\n",
    "    for pred_id, prediction in enumerate(predictions):\n",
    "        validation_file.write(f\"{pred_id}, {prediction}\\n\")\n",
    "        # print(str(pred_id) + \", \" + str(prediction))\n",
    "\n",
    "unique, counts = np.unique(predictions, return_counts=True)\n",
    "summary = dict(zip(unique, counts))\n",
    "print(summary);"
   ]
  }
 ],
 "metadata": {
  "kernelspec": {
   "display_name": "Python 3",
   "language": "python",
   "name": "python3"
  },
  "language_info": {
   "codemirror_mode": {
    "name": "ipython",
    "version": 3
   },
   "file_extension": ".py",
   "mimetype": "text/x-python",
   "name": "python",
   "nbconvert_exporter": "python",
   "pygments_lexer": "ipython3",
   "version": "3.7.0"
  }
 },
 "nbformat": 4,
 "nbformat_minor": 2
}
