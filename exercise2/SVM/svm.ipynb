{
 "cells": [
  {
   "cell_type": "markdown",
   "metadata": {},
   "source": [
    "Pattern Recognition 2020 - Ex 2a : SVM\n",
    "===\n",
    "Team chaussette"
   ]
  },
  {
   "cell_type": "code",
   "execution_count": 1,
   "metadata": {},
   "outputs": [],
   "source": [
    "import numpy as np\n",
    "import time\n",
    "from sklearn import svm\n",
    "from sklearn.model_selection import cross_val_score\n",
    "from tqdm.notebook import tqdm"
   ]
  },
  {
   "cell_type": "markdown",
   "metadata": {},
   "source": [
    "### Data loading"
   ]
  },
  {
   "cell_type": "code",
   "execution_count": 2,
   "metadata": {},
   "outputs": [],
   "source": [
    "# SVM\n",
    "\n",
    "#Loading csv data to numpy arrays\n",
    "def load_data(file, labels=True):\n",
    "    with open(file,\"r\") as csv:\n",
    "        data = []\n",
    "        for line in tqdm(csv):\n",
    "            data.append(line.strip().split(\",\"))\n",
    "        data = np.asarray(data, dtype=np.int)\n",
    "        if(labels):\n",
    "            samples =  data[:,1:]\n",
    "            labels = data[:,0]\n",
    "            return samples, labels\n",
    "        else:\n",
    "            samples = data[:,:]\n",
    "        return samples"
   ]
  },
  {
   "cell_type": "code",
   "execution_count": 3,
   "metadata": {},
   "outputs": [
    {
     "data": {
      "application/vnd.jupyter.widget-view+json": {
       "model_id": "ddb90610eb7a4b4e8bf062a044f6fcb7",
       "version_major": 2,
       "version_minor": 0
      },
      "text/plain": [
       "HBox(children=(FloatProgress(value=1.0, bar_style='info', max=1.0), HTML(value='')))"
      ]
     },
     "metadata": {},
     "output_type": "display_data"
    },
    {
     "name": "stdout",
     "output_type": "stream",
     "text": [
      "\n",
      "Training set size : 60000\n"
     ]
    }
   ],
   "source": [
    "train_file = 'data/mnist_train.csv'\n",
    "X_train, y_train = load_data(train_file, labels=True)\n",
    "print(f\"Training set size : {len(X_train)}\")"
   ]
  },
  {
   "cell_type": "code",
   "execution_count": 4,
   "metadata": {},
   "outputs": [
    {
     "data": {
      "application/vnd.jupyter.widget-view+json": {
       "model_id": "2d04dd049b644597a0091bde60384179",
       "version_major": 2,
       "version_minor": 0
      },
      "text/plain": [
       "HBox(children=(FloatProgress(value=1.0, bar_style='info', max=1.0), HTML(value='')))"
      ]
     },
     "metadata": {},
     "output_type": "display_data"
    },
    {
     "name": "stdout",
     "output_type": "stream",
     "text": [
      "\n",
      "Test set size : 10000\n"
     ]
    }
   ],
   "source": [
    "test_file = 'data/mnist_test.csv'\n",
    "X_test, y_test = load_data(test_file, labels=True)\n",
    "print(f\"Test set size : {len(X_test)}\")"
   ]
  },
  {
   "cell_type": "markdown",
   "metadata": {},
   "source": [
    "### Grid Search"
   ]
  },
  {
   "cell_type": "code",
   "execution_count": 5,
   "metadata": {},
   "outputs": [
    {
     "data": {
      "text/plain": [
       "\"\\nStarting Grid search...\\nBest parameters set found on training set using CV :\\n{'C': 1.0, 'degree': 2, 'gamma': 1.0, 'kernel': 'poly'}\\n\""
      ]
     },
     "execution_count": 5,
     "metadata": {},
     "output_type": "execute_result"
    }
   ],
   "source": [
    "from sklearn.model_selection import GridSearchCV\n",
    "# enable or disable grid search\n",
    "test_grid_search = False\n",
    "\n",
    "# we wanted to test more parameters but had to limit to those due to very long training time\n",
    "parameters = {\n",
    "    'kernel':['rbf', 'poly'], \n",
    "    'C':[1.0],\n",
    "    'gamma':[1.0],\n",
    "    'degree':[2],\n",
    "}\n",
    "\n",
    "if test_grid_search:\n",
    "    svc = svm.SVC()\n",
    "    clf = GridSearchCV(svc, parameters, n_jobs=4)\n",
    "    \n",
    "    print(\"Starting Grid search...\")\n",
    "    clf.fit(X_train, y_train)\n",
    "    \n",
    "    print(\"Best parameters set found on training set using CV :\")\n",
    "    print(clf.best_params_)\n",
    "    \n",
    "\"\"\"\n",
    "Starting Grid search...\n",
    "Best parameters set found on training set using CV :\n",
    "{'C': 1.0, 'degree': 2, 'gamma': 1.0, 'kernel': 'poly'}\n",
    "\"\"\""
   ]
  },
  {
   "cell_type": "markdown",
   "metadata": {},
   "source": [
    "### Training"
   ]
  },
  {
   "cell_type": "code",
   "execution_count": 9,
   "metadata": {},
   "outputs": [
    {
     "name": "stdout",
     "output_type": "stream",
     "text": [
      "Starting to train the classifier...\n",
      "[LibSVM]Training done in 3.8 minutes\n"
     ]
    }
   ],
   "source": [
    "from sklearn.metrics import plot_confusion_matrix\n",
    "import time\n",
    "clf = svm.SVC(kernel='poly', gamma=1.0, C = 1.0, degree=2, verbose=True)\n",
    "\n",
    "\n",
    "print(\"Starting to train the classifier...\")\n",
    "start_time = time.time()\n",
    "clf.fit(X_train, y_train)\n",
    "\n",
    "print(f\"Training done in {(time.time() - start_time)/60:.1f} minutes\")"
   ]
  },
  {
   "cell_type": "markdown",
   "metadata": {},
   "source": [
    "### Evaluation"
   ]
  },
  {
   "cell_type": "code",
   "execution_count": 10,
   "metadata": {},
   "outputs": [
    {
     "name": "stdout",
     "output_type": "stream",
     "text": [
      "Accuracy on the test set : 98.06 %\n"
     ]
    }
   ],
   "source": [
    "predictions = clf.predict(X_test)\n",
    "accuracy = clf.score(X_test, y_test)\n",
    "\n",
    "print(f\"Accuracy on the test set : {accuracy*100:.2f} %\")"
   ]
  },
  {
   "cell_type": "code",
   "execution_count": 11,
   "metadata": {},
   "outputs": [
    {
     "data": {
      "image/png": "[encoded data removed]",
      "text/plain": [
       "<Figure size 432x288 with 2 Axes>"
      ]
     },
     "metadata": {
      "needs_background": "light"
     },
     "output_type": "display_data"
    }
   ],
   "source": [
    "import matplotlib.pyplot as plt\n",
    "\n",
    "%matplotlib inline\n",
    "\n",
    "class_names = [str(i) for i in range(1, 11)]\n",
    "disp = plot_confusion_matrix(clf, X_test, y_test, display_labels=class_names, cmap=plt.cm.Blues)\n",
    "plt.show()"
   ]
  },
  {
   "cell_type": "code",
   "execution_count": 12,
   "metadata": {},
   "outputs": [
    {
     "name": "stdout",
     "output_type": "stream",
     "text": [
      "{0: 994, 1: 1141, 2: 1031, 3: 1009, 4: 983, 5: 890, 6: 952, 7: 1023, 8: 973, 9: 1004}\n"
     ]
    }
   ],
   "source": [
    "validation_file_name = \"predictions.txt\"\n",
    "with open(validation_file_name, \"w\") as validation_file:\n",
    "    for pred_id, prediction in enumerate(predictions):\n",
    "        validation_file.write(f\"{pred_id}, {prediction}\\n\")\n",
    "\n",
    "unique, counts = np.unique(predictions, return_counts=True)\n",
    "summary = dict(zip(unique, counts))\n",
    "print(summary);"
   ]
  },
  {
   "cell_type": "code",
   "execution_count": null,
   "metadata": {},
   "outputs": [],
   "source": []
  }
 ],
 "metadata": {
  "kernelspec": {
   "display_name": "Python 3",
   "language": "python",
   "name": "python3"
  },
  "language_info": {
   "codemirror_mode": {
    "name": "ipython",
    "version": 3
   },
   "file_extension": ".py",
   "mimetype": "text/x-python",
   "name": "python",
   "nbconvert_exporter": "python",
   "pygments_lexer": "ipython3",
   "version": "3.7.0"
  }
 },
 "nbformat": 4,
 "nbformat_minor": 2
}
