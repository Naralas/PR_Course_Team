{
 "cells": [
  {
   "cell_type": "code",
   "execution_count": 61,
   "metadata": {},
   "outputs": [],
   "source": [
    "from PIL import Image\n",
    "import glob\n",
    "import torch.utils.data as data\n",
    "from tqdm.notebook import trange, tqdm\n",
    "\n",
    "class MNISTDataset(data.Dataset):\n",
    "    \"\"\"ImageNet Limited dataset.\"\"\"\n",
    "    \n",
    "    def __init__(self, root_dir, transform=None):\n",
    "        \n",
    "        if transform:\n",
    "            self.transform = transform\n",
    "\n",
    "        files = glob.glob(root_dir+'/[0-9]/*.png')\n",
    "\n",
    "        self.images=[]\n",
    "        self.labels=[]\n",
    "        \n",
    "        for file in tqdm(files):\n",
    "            temp = Image.open(file).convert(\"RGB\")\n",
    "            keep = temp.copy()\n",
    "            self.labels.append(int(file.split('/')[-2]))\n",
    "            self.images.append(keep)\n",
    "            temp.close()\n",
    "\n",
    "    def __len__(self):\n",
    "    \n",
    "        return len(self.images)\n",
    "\n",
    "    def __getitem__(self, idx):\n",
    "\n",
    "        label = self.labels[idx]\n",
    "        image = self.images[idx]\n",
    "\n",
    "        if self.transform:\n",
    "            image = self.transform(image)\n",
    "\n",
    "        return image,label\n"
   ]
  },
  {
   "cell_type": "code",
   "execution_count": 68,
   "metadata": {},
   "outputs": [
    {
     "data": {
      "application/vnd.jupyter.widget-view+json": {
       "model_id": "5d165214d06c46259da2ea77ab259eec",
       "version_major": 2,
       "version_minor": 0
      },
      "text/plain": [
       "HBox(children=(FloatProgress(value=0.0, max=40200.0), HTML(value='')))"
      ]
     },
     "metadata": {},
     "output_type": "display_data"
    },
    {
     "name": "stdout",
     "output_type": "stream",
     "text": [
      "\n"
     ]
    },
    {
     "data": {
      "application/vnd.jupyter.widget-view+json": {
       "model_id": "cc109c208aef4d68b30499a88b61cd60",
       "version_major": 2,
       "version_minor": 0
      },
      "text/plain": [
       "HBox(children=(FloatProgress(value=0.0, max=10000.0), HTML(value='')))"
      ]
     },
     "metadata": {},
     "output_type": "display_data"
    },
    {
     "name": "stdout",
     "output_type": "stream",
     "text": [
      "\n"
     ]
    }
   ],
   "source": [
    "from torchvision.transforms import ToTensor, Normalize, Compose\n",
    "\n",
    "train_dir='data/train'\n",
    "test_dir='data/test'\n",
    "\n",
    "transform = Compose([ToTensor(), # Converts to Tensor, scales to [0, 1] float (from [0, 255] int)\n",
    "                    Normalize(mean=(0.5, 0.5, 0.5,), std=(0.5, 0.5, 0.5)), # scales to [-1.0, 1.0]\n",
    "                    ])\n",
    "\n",
    "train_set = MNISTDataset(train_dir,transform=transform)\n",
    "test_set = MNISTDataset(test_dir,transform=transform)"
   ]
  },
  {
   "cell_type": "code",
   "execution_count": 63,
   "metadata": {},
   "outputs": [],
   "source": [
    "import torch.nn as nn\n",
    "\n",
    "\n",
    "class Flatten(nn.Module):\n",
    "    \"\"\"\n",
    "    Flatten a convolution block into a simple vector.\n",
    "\n",
    "    Replaces the flattening line (view) often found into forward() methods of networks. This makes it\n",
    "    easier to navigate the network with introspection\n",
    "    \"\"\"\n",
    "    def forward(self, x):\n",
    "        x = x.view(x.size()[0], -1)\n",
    "        return x\n",
    "\n",
    "\n",
    "class PR_CNN(nn.Module):\n",
    "    \"\"\"\n",
    "    Simple feed forward convolutional neural network\n",
    "\n",
    "    Attributes\n",
    "    ----------\n",
    "    expected_input_size : tuple(int,int)\n",
    "        Expected input size (width, height)\n",
    "    conv1 : torch.nn.Sequential\n",
    "    conv2 : torch.nn.Sequential\n",
    "    conv3 : torch.nn.Sequential\n",
    "        Convolutional layers of the network\n",
    "    fc : torch.nn.Linear\n",
    "        Final classification fully connected layer\n",
    "\n",
    "    \"\"\"\n",
    "\n",
    "    def __init__(self, **kwargs):\n",
    "        \"\"\"\n",
    "        Creates an CNN_basic model from the scratch.\n",
    "\n",
    "        Parameters\n",
    "        ----------\n",
    "        output_channels : int\n",
    "            Number of neurons in the last layer\n",
    "        input_channels : int\n",
    "            Dimensionality of the input, typically 3 for RGB\n",
    "        \"\"\"\n",
    "        super(PR_CNN, self).__init__()\n",
    "\n",
    "        # PR_FILL_HERE: Here you have to put the expected input size in terms of width and height of your input image\n",
    "        self.expected_input_size = (28, 28)\n",
    "\n",
    "        # First layer\n",
    "        self.conv = nn.Sequential(\n",
    "            # PR_FILL_HERE: Here you have to put the input channels, output channels ands the kernel size\n",
    "            nn.Conv2d(in_channels=3, out_channels=32, kernel_size=3, stride=3),\n",
    "            nn.LeakyReLU(),\n",
    "            nn.Conv2d(in_channels=32, out_channels=64, kernel_size=3, stride=3),\n",
    "            nn.LeakyReLU(),\n",
    "            nn.Conv2d(in_channels=64, out_channels=128, kernel_size=3, stride=3),\n",
    "            nn.LeakyReLU()\n",
    "        )\n",
    "\n",
    "\n",
    "        # Classification layer\n",
    "        self.fc = nn.Sequential(\n",
    "            Flatten(),\n",
    "            # PR_FILL_HERE: Here you have to put the output size of the linear layer. DO NOT change 1536!\n",
    "            nn.Linear(128, 10)\n",
    "        )\n",
    "\n",
    "    def forward(self, x):\n",
    "        \"\"\"\n",
    "        Computes forward pass on the network\n",
    "\n",
    "        Parameters\n",
    "        ----------\n",
    "        x : Variable\n",
    "            Sample to run forward pass on. (input to the model)\n",
    "\n",
    "        Returns\n",
    "        -------\n",
    "        Variable\n",
    "            Activations of the fully connected layer\n",
    "        \"\"\"\n",
    "        x = self.conv(x)\n",
    "        x = self.fc(x)\n",
    "        return x\n"
   ]
  },
  {
   "cell_type": "code",
   "execution_count": 64,
   "metadata": {},
   "outputs": [],
   "source": [
    "import torch\n",
    "from torch.utils.data import DataLoader\n",
    "from tqdm.notebook import trange, tqdm\n",
    "import numpy as np\n",
    "\n",
    "def train_epoch(model, train_dataloader, optimizer, loss_fn):\n",
    "    losses = []\n",
    "    correct_predictions = 0\n",
    "\n",
    "    # Iterate mini batches over training dataset\n",
    "    for images, labels in tqdm(train_dataloader):\n",
    "        images = images.to(device)\n",
    "        labels = labels.to(device)\n",
    "        # Run predictions\n",
    "        output = model(images)\n",
    "        # Set gradients to zero\n",
    "        optimizer.zero_grad()\n",
    "        # Compute loss\n",
    "        loss = loss_fn(output, labels)\n",
    "        # Backpropagate (compute gradients)\n",
    "        loss.backward()\n",
    "        # Make an optimization step (update parameters)\n",
    "        optimizer.step()\n",
    "        # Log metrics\n",
    "        losses.append(loss.item())\n",
    "        predicted_labels = output.argmax(dim=1)\n",
    "        correct_predictions += (predicted_labels == labels).sum().item()\n",
    "    # Return loss values for each iteration and accuracy\n",
    "    mean_loss = np.array(losses).mean()\n",
    "    accuracy = 100.0 * correct_predictions / len(train_dataloader.dataset)\n",
    "    return mean_loss, accuracy\n",
    "\n",
    "def evaluate(model, dataloader, loss_fn):\n",
    "    losses = []\n",
    "    correct_predictions = 0\n",
    "    # Iterate mini batches over validation dataset\n",
    "    with torch.no_grad():\n",
    "        for images, labels in dataloader:\n",
    "            images = images.to(device)\n",
    "            labels = labels.to(device)\n",
    "            # Run predictions\n",
    "            output = model(images)\n",
    "            # Compute loss\n",
    "            loss = loss_fn(output, labels)\n",
    "            # Save metrics\n",
    "            losses.append(loss.item())\n",
    "            predicted_labels = output.argmax(dim=1)\n",
    "            correct_predictions += (predicted_labels == labels).sum().item()\n",
    "    # Return mean loss and accuracy\n",
    "    mean_loss = np.array(losses).mean()\n",
    "    accuracy = 100.0 * correct_predictions / len(dataloader.dataset)\n",
    "    return mean_loss, accuracy\n",
    "\n",
    "def train(model, train_dataloader, val_dataloader, optimizer, n_epochs, loss_function):\n",
    "    # We will monitor loss functions as the training progresses\n",
    "    train_losses = []\n",
    "    val_losses = []\n",
    "    train_accuracies = []\n",
    "    val_accuracies = []\n",
    "\n",
    "    # Run training for n_epochs\n",
    "    for epoch in range(n_epochs):\n",
    "        model.train()\n",
    "        train_loss, train_accuracy = train_epoch(model, train_dataloader, optimizer, loss_fn)\n",
    "        model.eval()\n",
    "        val_loss, val_accuracy = evaluate(model, val_dataloader, loss_fn)\n",
    "        train_losses.append(train_loss)\n",
    "        val_losses.append(val_loss)\n",
    "        train_accuracies.append(train_accuracy)\n",
    "        val_accuracies.append(val_accuracy)\n",
    "        print('Epoch {}/{}: train_loss: {:.4f}, train_accuracy: {:.4f}, val_loss: {:.4f}, val_accuracy: {:.4f}'.format(epoch+1, n_epochs,\n",
    "                                                                                                      train_losses[-1],\n",
    "                                                                                                      train_accuracies[-1],\n",
    "                                                                                                      val_losses[-1],\n",
    "                                                                                                      val_accuracies[-1]))\n",
    "    return train_losses, val_losses, train_accuracies, val_accuracies\n"
   ]
  },
  {
   "cell_type": "code",
   "execution_count": 69,
   "metadata": {},
   "outputs": [
    {
     "name": "stdout",
     "output_type": "stream",
     "text": [
      "\n",
      "Training model with lr = 0.001\n"
     ]
    },
    {
     "data": {
      "application/vnd.jupyter.widget-view+json": {
       "model_id": "fb535b53210347c38d703544be418089",
       "version_major": 2,
       "version_minor": 0
      },
      "text/plain": [
       "HBox(children=(FloatProgress(value=0.0, max=1257.0), HTML(value='')))"
      ]
     },
     "metadata": {},
     "output_type": "display_data"
    },
    {
     "name": "stdout",
     "output_type": "stream",
     "text": [
      "\n",
      "Epoch 1/25: train_loss: 0.2679, train_accuracy: 91.9677, val_loss: 0.1069, val_accuracy: 96.5200\n"
     ]
    },
    {
     "data": {
      "application/vnd.jupyter.widget-view+json": {
       "model_id": "69a0b16ccd5a482d9776b58eddae5822",
       "version_major": 2,
       "version_minor": 0
      },
      "text/plain": [
       "HBox(children=(FloatProgress(value=0.0, max=1257.0), HTML(value='')))"
      ]
     },
     "metadata": {},
     "output_type": "display_data"
    },
    {
     "name": "stdout",
     "output_type": "stream",
     "text": [
      "\n",
      "Epoch 2/25: train_loss: 0.0880, train_accuracy: 97.3383, val_loss: 0.0923, val_accuracy: 97.0200\n"
     ]
    },
    {
     "data": {
      "application/vnd.jupyter.widget-view+json": {
       "model_id": "a2d2e25f715742ba80848a5f263ec5a8",
       "version_major": 2,
       "version_minor": 0
      },
      "text/plain": [
       "HBox(children=(FloatProgress(value=0.0, max=1257.0), HTML(value='')))"
      ]
     },
     "metadata": {},
     "output_type": "display_data"
    },
    {
     "name": "stdout",
     "output_type": "stream",
     "text": [
      "\n",
      "Epoch 3/25: train_loss: 0.0594, train_accuracy: 98.1169, val_loss: 0.0701, val_accuracy: 97.8900\n"
     ]
    },
    {
     "data": {
      "application/vnd.jupyter.widget-view+json": {
       "model_id": "e04190ee007b40b5856fba52bdff065f",
       "version_major": 2,
       "version_minor": 0
      },
      "text/plain": [
       "HBox(children=(FloatProgress(value=0.0, max=1257.0), HTML(value='')))"
      ]
     },
     "metadata": {},
     "output_type": "display_data"
    },
    {
     "name": "stdout",
     "output_type": "stream",
     "text": [
      "\n",
      "Epoch 4/25: train_loss: 0.0416, train_accuracy: 98.7239, val_loss: 0.0651, val_accuracy: 97.9300\n"
     ]
    },
    {
     "data": {
      "application/vnd.jupyter.widget-view+json": {
       "model_id": "615782e43602469ab0ea457f0500a45e",
       "version_major": 2,
       "version_minor": 0
      },
      "text/plain": [
       "HBox(children=(FloatProgress(value=0.0, max=1257.0), HTML(value='')))"
      ]
     },
     "metadata": {},
     "output_type": "display_data"
    },
    {
     "name": "stdout",
     "output_type": "stream",
     "text": [
      "\n",
      "Epoch 5/25: train_loss: 0.0340, train_accuracy: 98.9478, val_loss: 0.0597, val_accuracy: 97.9500\n"
     ]
    },
    {
     "data": {
      "application/vnd.jupyter.widget-view+json": {
       "model_id": "fce46096325a43ea89a536991a9554ec",
       "version_major": 2,
       "version_minor": 0
      },
      "text/plain": [
       "HBox(children=(FloatProgress(value=0.0, max=1257.0), HTML(value='')))"
      ]
     },
     "metadata": {},
     "output_type": "display_data"
    },
    {
     "name": "stdout",
     "output_type": "stream",
     "text": [
      "\n",
      "Epoch 6/25: train_loss: 0.0262, train_accuracy: 99.1343, val_loss: 0.0636, val_accuracy: 98.2500\n"
     ]
    },
    {
     "data": {
      "application/vnd.jupyter.widget-view+json": {
       "model_id": "70cc79b005be485ebd057d048a80535e",
       "version_major": 2,
       "version_minor": 0
      },
      "text/plain": [
       "HBox(children=(FloatProgress(value=0.0, max=1257.0), HTML(value='')))"
      ]
     },
     "metadata": {},
     "output_type": "display_data"
    },
    {
     "name": "stdout",
     "output_type": "stream",
     "text": [
      "\n",
      "Epoch 7/25: train_loss: 0.0208, train_accuracy: 99.3259, val_loss: 0.0693, val_accuracy: 97.9800\n"
     ]
    },
    {
     "data": {
      "application/vnd.jupyter.widget-view+json": {
       "model_id": "1c3a4d50e75f422fb0c565430178ef8e",
       "version_major": 2,
       "version_minor": 0
      },
      "text/plain": [
       "HBox(children=(FloatProgress(value=0.0, max=1257.0), HTML(value='')))"
      ]
     },
     "metadata": {},
     "output_type": "display_data"
    },
    {
     "name": "stdout",
     "output_type": "stream",
     "text": [
      "\n",
      "Epoch 8/25: train_loss: 0.0183, train_accuracy: 99.3955, val_loss: 0.0591, val_accuracy: 98.3600\n"
     ]
    },
    {
     "data": {
      "application/vnd.jupyter.widget-view+json": {
       "model_id": "0bfb8c2b21ec4e09a44b3df378a3de0d",
       "version_major": 2,
       "version_minor": 0
      },
      "text/plain": [
       "HBox(children=(FloatProgress(value=0.0, max=1257.0), HTML(value='')))"
      ]
     },
     "metadata": {},
     "output_type": "display_data"
    },
    {
     "name": "stdout",
     "output_type": "stream",
     "text": [
      "\n",
      "Epoch 9/25: train_loss: 0.0150, train_accuracy: 99.4652, val_loss: 0.0757, val_accuracy: 98.0300\n"
     ]
    },
    {
     "data": {
      "application/vnd.jupyter.widget-view+json": {
       "model_id": "abfc0cef8ae34dc4839ae9dd22c7c72f",
       "version_major": 2,
       "version_minor": 0
      },
      "text/plain": [
       "HBox(children=(FloatProgress(value=0.0, max=1257.0), HTML(value='')))"
      ]
     },
     "metadata": {},
     "output_type": "display_data"
    },
    {
     "name": "stdout",
     "output_type": "stream",
     "text": [
      "\n",
      "Epoch 10/25: train_loss: 0.0132, train_accuracy: 99.5672, val_loss: 0.0772, val_accuracy: 98.0500\n"
     ]
    },
    {
     "data": {
      "application/vnd.jupyter.widget-view+json": {
       "model_id": "abbf725888694fa6abb8484ff03213e6",
       "version_major": 2,
       "version_minor": 0
      },
      "text/plain": [
       "HBox(children=(FloatProgress(value=0.0, max=1257.0), HTML(value='')))"
      ]
     },
     "metadata": {},
     "output_type": "display_data"
    },
    {
     "name": "stdout",
     "output_type": "stream",
     "text": [
      "\n",
      "Epoch 11/25: train_loss: 0.0139, train_accuracy: 99.5124, val_loss: 0.0928, val_accuracy: 97.8300\n"
     ]
    },
    {
     "data": {
      "application/vnd.jupyter.widget-view+json": {
       "model_id": "6324b818c96147d993ac3f09b2e4a15e",
       "version_major": 2,
       "version_minor": 0
      },
      "text/plain": [
       "HBox(children=(FloatProgress(value=0.0, max=1257.0), HTML(value='')))"
      ]
     },
     "metadata": {},
     "output_type": "display_data"
    },
    {
     "name": "stdout",
     "output_type": "stream",
     "text": [
      "\n",
      "Epoch 12/25: train_loss: 0.0113, train_accuracy: 99.6070, val_loss: 0.1042, val_accuracy: 97.4400\n"
     ]
    },
    {
     "data": {
      "application/vnd.jupyter.widget-view+json": {
       "model_id": "920b68b1cc65413da468c1152ae15fa8",
       "version_major": 2,
       "version_minor": 0
      },
      "text/plain": [
       "HBox(children=(FloatProgress(value=0.0, max=1257.0), HTML(value='')))"
      ]
     },
     "metadata": {},
     "output_type": "display_data"
    },
    {
     "name": "stdout",
     "output_type": "stream",
     "text": [
      "\n",
      "Epoch 13/25: train_loss: 0.0091, train_accuracy: 99.6915, val_loss: 0.0845, val_accuracy: 98.3400\n"
     ]
    },
    {
     "data": {
      "application/vnd.jupyter.widget-view+json": {
       "model_id": "cde67e61d3a543db9504a28f6910dd63",
       "version_major": 2,
       "version_minor": 0
      },
      "text/plain": [
       "HBox(children=(FloatProgress(value=0.0, max=1257.0), HTML(value='')))"
      ]
     },
     "metadata": {},
     "output_type": "display_data"
    },
    {
     "name": "stdout",
     "output_type": "stream",
     "text": [
      "\n",
      "Epoch 14/25: train_loss: 0.0105, train_accuracy: 99.6791, val_loss: 0.0937, val_accuracy: 98.0100\n"
     ]
    },
    {
     "data": {
      "application/vnd.jupyter.widget-view+json": {
       "model_id": "f2df7db713ef4b8d802c4c1ce3742bd3",
       "version_major": 2,
       "version_minor": 0
      },
      "text/plain": [
       "HBox(children=(FloatProgress(value=0.0, max=1257.0), HTML(value='')))"
      ]
     },
     "metadata": {},
     "output_type": "display_data"
    },
    {
     "name": "stdout",
     "output_type": "stream",
     "text": [
      "\n",
      "Epoch 15/25: train_loss: 0.0091, train_accuracy: 99.6891, val_loss: 0.1022, val_accuracy: 97.9400\n"
     ]
    },
    {
     "data": {
      "application/vnd.jupyter.widget-view+json": {
       "model_id": "ca12068cdb1e48e0b43a1e5a3d718811",
       "version_major": 2,
       "version_minor": 0
      },
      "text/plain": [
       "HBox(children=(FloatProgress(value=0.0, max=1257.0), HTML(value='')))"
      ]
     },
     "metadata": {},
     "output_type": "display_data"
    },
    {
     "name": "stdout",
     "output_type": "stream",
     "text": [
      "\n",
      "Epoch 16/25: train_loss: 0.0068, train_accuracy: 99.7811, val_loss: 0.0959, val_accuracy: 98.2300\n"
     ]
    },
    {
     "data": {
      "application/vnd.jupyter.widget-view+json": {
       "model_id": "8d8bab59814d434d9d2060fdad5ac0af",
       "version_major": 2,
       "version_minor": 0
      },
      "text/plain": [
       "HBox(children=(FloatProgress(value=0.0, max=1257.0), HTML(value='')))"
      ]
     },
     "metadata": {},
     "output_type": "display_data"
    },
    {
     "name": "stdout",
     "output_type": "stream",
     "text": [
      "\n",
      "Epoch 17/25: train_loss: 0.0098, train_accuracy: 99.7015, val_loss: 0.0828, val_accuracy: 98.3300\n"
     ]
    },
    {
     "data": {
      "application/vnd.jupyter.widget-view+json": {
       "model_id": "2a0e593cfd97460e9f2afeab2bc28612",
       "version_major": 2,
       "version_minor": 0
      },
      "text/plain": [
       "HBox(children=(FloatProgress(value=0.0, max=1257.0), HTML(value='')))"
      ]
     },
     "metadata": {},
     "output_type": "display_data"
    },
    {
     "name": "stdout",
     "output_type": "stream",
     "text": [
      "\n",
      "Epoch 18/25: train_loss: 0.0074, train_accuracy: 99.8010, val_loss: 0.0917, val_accuracy: 98.1600\n"
     ]
    },
    {
     "data": {
      "application/vnd.jupyter.widget-view+json": {
       "model_id": "20464569999a475aa1b772678e090962",
       "version_major": 2,
       "version_minor": 0
      },
      "text/plain": [
       "HBox(children=(FloatProgress(value=0.0, max=1257.0), HTML(value='')))"
      ]
     },
     "metadata": {},
     "output_type": "display_data"
    },
    {
     "name": "stdout",
     "output_type": "stream",
     "text": [
      "\n",
      "Epoch 19/25: train_loss: 0.0095, train_accuracy: 99.6542, val_loss: 0.1110, val_accuracy: 98.2500\n"
     ]
    },
    {
     "data": {
      "application/vnd.jupyter.widget-view+json": {
       "model_id": "27845a8ddd1047e18cf86f6a13277149",
       "version_major": 2,
       "version_minor": 0
      },
      "text/plain": [
       "HBox(children=(FloatProgress(value=0.0, max=1257.0), HTML(value='')))"
      ]
     },
     "metadata": {},
     "output_type": "display_data"
    },
    {
     "name": "stdout",
     "output_type": "stream",
     "text": [
      "\n",
      "Epoch 20/25: train_loss: 0.0089, train_accuracy: 99.7413, val_loss: 0.1042, val_accuracy: 98.1000\n"
     ]
    },
    {
     "data": {
      "application/vnd.jupyter.widget-view+json": {
       "model_id": "5cc7fdd154124680a0dc87d802ddf5ca",
       "version_major": 2,
       "version_minor": 0
      },
      "text/plain": [
       "HBox(children=(FloatProgress(value=0.0, max=1257.0), HTML(value='')))"
      ]
     },
     "metadata": {},
     "output_type": "display_data"
    },
    {
     "name": "stdout",
     "output_type": "stream",
     "text": [
      "\n",
      "Epoch 21/25: train_loss: 0.0059, train_accuracy: 99.8035, val_loss: 0.1038, val_accuracy: 98.1500\n"
     ]
    },
    {
     "data": {
      "application/vnd.jupyter.widget-view+json": {
       "model_id": "448ac71de16045198d2c1f79defca58e",
       "version_major": 2,
       "version_minor": 0
      },
      "text/plain": [
       "HBox(children=(FloatProgress(value=0.0, max=1257.0), HTML(value='')))"
      ]
     },
     "metadata": {},
     "output_type": "display_data"
    },
    {
     "name": "stdout",
     "output_type": "stream",
     "text": [
      "\n",
      "Epoch 22/25: train_loss: 0.0086, train_accuracy: 99.7239, val_loss: 0.1153, val_accuracy: 98.2200\n"
     ]
    },
    {
     "data": {
      "application/vnd.jupyter.widget-view+json": {
       "model_id": "2edcdc1cee77446c8901e964803ca7f3",
       "version_major": 2,
       "version_minor": 0
      },
      "text/plain": [
       "HBox(children=(FloatProgress(value=0.0, max=1257.0), HTML(value='')))"
      ]
     },
     "metadata": {},
     "output_type": "display_data"
    },
    {
     "name": "stdout",
     "output_type": "stream",
     "text": [
      "\n",
      "Epoch 23/25: train_loss: 0.0060, train_accuracy: 99.8184, val_loss: 0.1222, val_accuracy: 98.0000\n"
     ]
    },
    {
     "data": {
      "application/vnd.jupyter.widget-view+json": {
       "model_id": "3ad4464a82794125bfb24239c3296aed",
       "version_major": 2,
       "version_minor": 0
      },
      "text/plain": [
       "HBox(children=(FloatProgress(value=0.0, max=1257.0), HTML(value='')))"
      ]
     },
     "metadata": {},
     "output_type": "display_data"
    },
    {
     "name": "stdout",
     "output_type": "stream",
     "text": [
      "\n",
      "Epoch 24/25: train_loss: 0.0060, train_accuracy: 99.8557, val_loss: 0.1229, val_accuracy: 98.0200\n"
     ]
    },
    {
     "data": {
      "application/vnd.jupyter.widget-view+json": {
       "model_id": "3a212e9c8a7947a88eb23bef9996de17",
       "version_major": 2,
       "version_minor": 0
      },
      "text/plain": [
       "HBox(children=(FloatProgress(value=0.0, max=1257.0), HTML(value='')))"
      ]
     },
     "metadata": {},
     "output_type": "display_data"
    },
    {
     "name": "stdout",
     "output_type": "stream",
     "text": [
      "\n",
      "Epoch 25/25: train_loss: 0.0065, train_accuracy: 99.7637, val_loss: 0.1387, val_accuracy: 98.0600\n",
      "\n",
      "Training model with lr = 0.01\n"
     ]
    },
    {
     "data": {
      "application/vnd.jupyter.widget-view+json": {
       "model_id": "c44b629a3ead4530b29c458d7efe234d",
       "version_major": 2,
       "version_minor": 0
      },
      "text/plain": [
       "HBox(children=(FloatProgress(value=0.0, max=1257.0), HTML(value='')))"
      ]
     },
     "metadata": {},
     "output_type": "display_data"
    },
    {
     "name": "stdout",
     "output_type": "stream",
     "text": [
      "\n",
      "Epoch 1/25: train_loss: 0.2792, train_accuracy: 91.6517, val_loss: 0.1823, val_accuracy: 94.6600\n"
     ]
    },
    {
     "data": {
      "application/vnd.jupyter.widget-view+json": {
       "model_id": "a81e43a651444f9aa5e187426e8812c2",
       "version_major": 2,
       "version_minor": 0
      },
      "text/plain": [
       "HBox(children=(FloatProgress(value=0.0, max=1257.0), HTML(value='')))"
      ]
     },
     "metadata": {},
     "output_type": "display_data"
    },
    {
     "name": "stdout",
     "output_type": "stream",
     "text": [
      "\n",
      "Epoch 2/25: train_loss: 0.1910, train_accuracy: 94.7488, val_loss: 0.1436, val_accuracy: 95.9300\n"
     ]
    },
    {
     "data": {
      "application/vnd.jupyter.widget-view+json": {
       "model_id": "15d7c19a8f6f43468ff10da11c2a71d9",
       "version_major": 2,
       "version_minor": 0
      },
      "text/plain": [
       "HBox(children=(FloatProgress(value=0.0, max=1257.0), HTML(value='')))"
      ]
     },
     "metadata": {},
     "output_type": "display_data"
    },
    {
     "name": "stdout",
     "output_type": "stream",
     "text": [
      "\n",
      "Epoch 3/25: train_loss: 0.1675, train_accuracy: 95.4229, val_loss: 0.2449, val_accuracy: 94.1700\n"
     ]
    },
    {
     "data": {
      "application/vnd.jupyter.widget-view+json": {
       "model_id": "fd4071860aee4e498d0db853141dc505",
       "version_major": 2,
       "version_minor": 0
      },
      "text/plain": [
       "HBox(children=(FloatProgress(value=0.0, max=1257.0), HTML(value='')))"
      ]
     },
     "metadata": {},
     "output_type": "display_data"
    },
    {
     "name": "stdout",
     "output_type": "stream",
     "text": [
      "\n",
      "Epoch 4/25: train_loss: 0.4348, train_accuracy: 92.4577, val_loss: 0.1651, val_accuracy: 95.6100\n"
     ]
    },
    {
     "data": {
      "application/vnd.jupyter.widget-view+json": {
       "model_id": "bdae18f9af95442089c51e018a7ca366",
       "version_major": 2,
       "version_minor": 0
      },
      "text/plain": [
       "HBox(children=(FloatProgress(value=0.0, max=1257.0), HTML(value='')))"
      ]
     },
     "metadata": {},
     "output_type": "display_data"
    },
    {
     "name": "stdout",
     "output_type": "stream",
     "text": [
      "\n",
      "Epoch 5/25: train_loss: 0.1543, train_accuracy: 95.6493, val_loss: 0.1546, val_accuracy: 95.7000\n"
     ]
    },
    {
     "data": {
      "application/vnd.jupyter.widget-view+json": {
       "model_id": "39e05c12ddbf4b6a93250550aebd835d",
       "version_major": 2,
       "version_minor": 0
      },
      "text/plain": [
       "HBox(children=(FloatProgress(value=0.0, max=1257.0), HTML(value='')))"
      ]
     },
     "metadata": {},
     "output_type": "display_data"
    },
    {
     "name": "stdout",
     "output_type": "stream",
     "text": [
      "\n",
      "Epoch 6/25: train_loss: 0.1433, train_accuracy: 96.0274, val_loss: 0.2233, val_accuracy: 94.5700\n"
     ]
    },
    {
     "data": {
      "application/vnd.jupyter.widget-view+json": {
       "model_id": "02be13f052ce48c4b754c7c3d59ab5ed",
       "version_major": 2,
       "version_minor": 0
      },
      "text/plain": [
       "HBox(children=(FloatProgress(value=0.0, max=1257.0), HTML(value='')))"
      ]
     },
     "metadata": {},
     "output_type": "display_data"
    },
    {
     "name": "stdout",
     "output_type": "stream",
     "text": [
      "\n",
      "Epoch 7/25: train_loss: 0.1373, train_accuracy: 96.2562, val_loss: 0.1429, val_accuracy: 95.8700\n"
     ]
    },
    {
     "data": {
      "application/vnd.jupyter.widget-view+json": {
       "model_id": "2393f623150f412e96e03a937ab39503",
       "version_major": 2,
       "version_minor": 0
      },
      "text/plain": [
       "HBox(children=(FloatProgress(value=0.0, max=1257.0), HTML(value='')))"
      ]
     },
     "metadata": {},
     "output_type": "display_data"
    },
    {
     "name": "stdout",
     "output_type": "stream",
     "text": [
      "\n",
      "Epoch 8/25: train_loss: 0.1553, train_accuracy: 95.7960, val_loss: 0.2935, val_accuracy: 92.6100\n"
     ]
    },
    {
     "data": {
      "application/vnd.jupyter.widget-view+json": {
       "model_id": "6629d14b792444329a233e5bbbb758ee",
       "version_major": 2,
       "version_minor": 0
      },
      "text/plain": [
       "HBox(children=(FloatProgress(value=0.0, max=1257.0), HTML(value='')))"
      ]
     },
     "metadata": {},
     "output_type": "display_data"
    },
    {
     "name": "stdout",
     "output_type": "stream",
     "text": [
      "\n",
      "Epoch 9/25: train_loss: 1.3263, train_accuracy: 93.2388, val_loss: 0.4146, val_accuracy: 95.2000\n"
     ]
    },
    {
     "data": {
      "application/vnd.jupyter.widget-view+json": {
       "model_id": "353c8aedaaf4401d9ff74ac70d7c45a6",
       "version_major": 2,
       "version_minor": 0
      },
      "text/plain": [
       "HBox(children=(FloatProgress(value=0.0, max=1257.0), HTML(value='')))"
      ]
     },
     "metadata": {},
     "output_type": "display_data"
    },
    {
     "name": "stdout",
     "output_type": "stream",
     "text": [
      "\n",
      "Epoch 10/25: train_loss: 0.2402, train_accuracy: 95.6194, val_loss: 0.2294, val_accuracy: 95.8900\n"
     ]
    },
    {
     "data": {
      "application/vnd.jupyter.widget-view+json": {
       "model_id": "8c3f876a81304acebd6e7ceac4a43b1f",
       "version_major": 2,
       "version_minor": 0
      },
      "text/plain": [
       "HBox(children=(FloatProgress(value=0.0, max=1257.0), HTML(value='')))"
      ]
     },
     "metadata": {},
     "output_type": "display_data"
    },
    {
     "name": "stdout",
     "output_type": "stream",
     "text": [
      "\n",
      "Epoch 11/25: train_loss: 0.1959, train_accuracy: 96.0821, val_loss: 0.2481, val_accuracy: 95.8200\n"
     ]
    },
    {
     "data": {
      "application/vnd.jupyter.widget-view+json": {
       "model_id": "ab1db218819d470b94b8cf1ca28608df",
       "version_major": 2,
       "version_minor": 0
      },
      "text/plain": [
       "HBox(children=(FloatProgress(value=0.0, max=1257.0), HTML(value='')))"
      ]
     },
     "metadata": {},
     "output_type": "display_data"
    },
    {
     "name": "stdout",
     "output_type": "stream",
     "text": [
      "\n",
      "Epoch 12/25: train_loss: 0.1451, train_accuracy: 96.4776, val_loss: 0.2765, val_accuracy: 95.6800\n"
     ]
    },
    {
     "data": {
      "application/vnd.jupyter.widget-view+json": {
       "model_id": "da4bf89aa7b64bbcb806d7f6cb076026",
       "version_major": 2,
       "version_minor": 0
      },
      "text/plain": [
       "HBox(children=(FloatProgress(value=0.0, max=1257.0), HTML(value='')))"
      ]
     },
     "metadata": {},
     "output_type": "display_data"
    },
    {
     "name": "stdout",
     "output_type": "stream",
     "text": [
      "\n",
      "Epoch 13/25: train_loss: 0.1633, train_accuracy: 96.1095, val_loss: 0.2543, val_accuracy: 94.7600\n"
     ]
    },
    {
     "data": {
      "application/vnd.jupyter.widget-view+json": {
       "model_id": "65141b516e5e4118858a31816465ed16",
       "version_major": 2,
       "version_minor": 0
      },
      "text/plain": [
       "HBox(children=(FloatProgress(value=0.0, max=1257.0), HTML(value='')))"
      ]
     },
     "metadata": {},
     "output_type": "display_data"
    },
    {
     "name": "stdout",
     "output_type": "stream",
     "text": [
      "\n",
      "Epoch 14/25: train_loss: 0.1371, train_accuracy: 96.4801, val_loss: 0.1881, val_accuracy: 94.4200\n"
     ]
    },
    {
     "data": {
      "application/vnd.jupyter.widget-view+json": {
       "model_id": "93a2750870ad4e2086f59af750db3fa3",
       "version_major": 2,
       "version_minor": 0
      },
      "text/plain": [
       "HBox(children=(FloatProgress(value=0.0, max=1257.0), HTML(value='')))"
      ]
     },
     "metadata": {},
     "output_type": "display_data"
    },
    {
     "name": "stdout",
     "output_type": "stream",
     "text": [
      "\n",
      "Epoch 15/25: train_loss: 0.1373, train_accuracy: 96.2960, val_loss: 0.1255, val_accuracy: 96.4300\n"
     ]
    },
    {
     "data": {
      "application/vnd.jupyter.widget-view+json": {
       "model_id": "31f96d0a0fd849c7ac040999fc452e48",
       "version_major": 2,
       "version_minor": 0
      },
      "text/plain": [
       "HBox(children=(FloatProgress(value=0.0, max=1257.0), HTML(value='')))"
      ]
     },
     "metadata": {},
     "output_type": "display_data"
    },
    {
     "name": "stdout",
     "output_type": "stream",
     "text": [
      "\n",
      "Epoch 16/25: train_loss: 0.5413, train_accuracy: 95.3756, val_loss: 1.4718, val_accuracy: 84.6600\n"
     ]
    },
    {
     "data": {
      "application/vnd.jupyter.widget-view+json": {
       "model_id": "fc97bfd814684bd8ad688dcea44723a4",
       "version_major": 2,
       "version_minor": 0
      },
      "text/plain": [
       "HBox(children=(FloatProgress(value=0.0, max=1257.0), HTML(value='')))"
      ]
     },
     "metadata": {},
     "output_type": "display_data"
    },
    {
     "name": "stdout",
     "output_type": "stream",
     "text": [
      "\n",
      "Epoch 17/25: train_loss: 0.4723, train_accuracy: 93.3781, val_loss: 0.2837, val_accuracy: 95.0800\n"
     ]
    },
    {
     "data": {
      "application/vnd.jupyter.widget-view+json": {
       "model_id": "2878d130cb2446a0bf9830a494bfb0dc",
       "version_major": 2,
       "version_minor": 0
      },
      "text/plain": [
       "HBox(children=(FloatProgress(value=0.0, max=1257.0), HTML(value='')))"
      ]
     },
     "metadata": {},
     "output_type": "display_data"
    },
    {
     "name": "stdout",
     "output_type": "stream",
     "text": [
      "\n",
      "Epoch 18/25: train_loss: 0.1864, train_accuracy: 96.0970, val_loss: 0.2297, val_accuracy: 94.9300\n"
     ]
    },
    {
     "data": {
      "application/vnd.jupyter.widget-view+json": {
       "model_id": "3a3e75b480254fd2b1840489ce6ec759",
       "version_major": 2,
       "version_minor": 0
      },
      "text/plain": [
       "HBox(children=(FloatProgress(value=0.0, max=1257.0), HTML(value='')))"
      ]
     },
     "metadata": {},
     "output_type": "display_data"
    },
    {
     "name": "stdout",
     "output_type": "stream",
     "text": [
      "\n",
      "Epoch 19/25: train_loss: 0.1535, train_accuracy: 96.2562, val_loss: 0.1587, val_accuracy: 96.4400\n"
     ]
    },
    {
     "data": {
      "application/vnd.jupyter.widget-view+json": {
       "model_id": "5b4cfe0494f7432bb176cf9a9c74eda6",
       "version_major": 2,
       "version_minor": 0
      },
      "text/plain": [
       "HBox(children=(FloatProgress(value=0.0, max=1257.0), HTML(value='')))"
      ]
     },
     "metadata": {},
     "output_type": "display_data"
    },
    {
     "name": "stdout",
     "output_type": "stream",
     "text": [
      "\n",
      "Epoch 20/25: train_loss: 0.1391, train_accuracy: 96.5473, val_loss: 0.1522, val_accuracy: 96.7000\n"
     ]
    },
    {
     "data": {
      "application/vnd.jupyter.widget-view+json": {
       "model_id": "002043363628446ea78ced0eb7b1fac4",
       "version_major": 2,
       "version_minor": 0
      },
      "text/plain": [
       "HBox(children=(FloatProgress(value=0.0, max=1257.0), HTML(value='')))"
      ]
     },
     "metadata": {},
     "output_type": "display_data"
    },
    {
     "name": "stdout",
     "output_type": "stream",
     "text": [
      "\n",
      "Epoch 21/25: train_loss: 0.1326, train_accuracy: 96.3930, val_loss: 0.1471, val_accuracy: 96.8900\n"
     ]
    },
    {
     "data": {
      "application/vnd.jupyter.widget-view+json": {
       "model_id": "5e477edda95b4fdb87a859e7b0fa10d4",
       "version_major": 2,
       "version_minor": 0
      },
      "text/plain": [
       "HBox(children=(FloatProgress(value=0.0, max=1257.0), HTML(value='')))"
      ]
     },
     "metadata": {},
     "output_type": "display_data"
    },
    {
     "name": "stdout",
     "output_type": "stream",
     "text": [
      "\n",
      "Epoch 22/25: train_loss: 0.1350, train_accuracy: 96.4652, val_loss: 0.1357, val_accuracy: 96.1900\n"
     ]
    },
    {
     "data": {
      "application/vnd.jupyter.widget-view+json": {
       "model_id": "0e249b8b50834c43936d40931c9ea293",
       "version_major": 2,
       "version_minor": 0
      },
      "text/plain": [
       "HBox(children=(FloatProgress(value=0.0, max=1257.0), HTML(value='')))"
      ]
     },
     "metadata": {},
     "output_type": "display_data"
    },
    {
     "name": "stdout",
     "output_type": "stream",
     "text": [
      "\n",
      "Epoch 23/25: train_loss: 0.1492, train_accuracy: 96.0672, val_loss: 0.2405, val_accuracy: 93.8700\n"
     ]
    },
    {
     "data": {
      "application/vnd.jupyter.widget-view+json": {
       "model_id": "3648b0bd09ab4dc18e0895499b1b1bf8",
       "version_major": 2,
       "version_minor": 0
      },
      "text/plain": [
       "HBox(children=(FloatProgress(value=0.0, max=1257.0), HTML(value='')))"
      ]
     },
     "metadata": {},
     "output_type": "display_data"
    },
    {
     "name": "stdout",
     "output_type": "stream",
     "text": [
      "\n",
      "Epoch 24/25: train_loss: 0.1640, train_accuracy: 95.9701, val_loss: 0.1883, val_accuracy: 95.5700\n"
     ]
    },
    {
     "data": {
      "application/vnd.jupyter.widget-view+json": {
       "model_id": "4fb05b66020e418aa706398d11d89235",
       "version_major": 2,
       "version_minor": 0
      },
      "text/plain": [
       "HBox(children=(FloatProgress(value=0.0, max=1257.0), HTML(value='')))"
      ]
     },
     "metadata": {},
     "output_type": "display_data"
    },
    {
     "name": "stdout",
     "output_type": "stream",
     "text": [
      "\n",
      "Epoch 25/25: train_loss: 3.1375, train_accuracy: 93.5423, val_loss: 1.1209, val_accuracy: 93.3800\n",
      "\n",
      "Training model with lr = 0.1\n"
     ]
    },
    {
     "data": {
      "application/vnd.jupyter.widget-view+json": {
       "model_id": "bc68177c739d486ba76c96a9c1090aca",
       "version_major": 2,
       "version_minor": 0
      },
      "text/plain": [
       "HBox(children=(FloatProgress(value=0.0, max=1257.0), HTML(value='')))"
      ]
     },
     "metadata": {},
     "output_type": "display_data"
    },
    {
     "name": "stdout",
     "output_type": "stream",
     "text": [
      "\n",
      "Epoch 1/25: train_loss: 3.2505, train_accuracy: 68.7189, val_loss: 0.5339, val_accuracy: 86.1300\n"
     ]
    },
    {
     "data": {
      "application/vnd.jupyter.widget-view+json": {
       "model_id": "50c7444c59ff49fa8a7a82bb50d24f9e",
       "version_major": 2,
       "version_minor": 0
      },
      "text/plain": [
       "HBox(children=(FloatProgress(value=0.0, max=1257.0), HTML(value='')))"
      ]
     },
     "metadata": {},
     "output_type": "display_data"
    },
    {
     "name": "stdout",
     "output_type": "stream",
     "text": [
      "\n",
      "Epoch 2/25: train_loss: 1613.9823, train_accuracy: 63.2388, val_loss: 114.0545, val_accuracy: 79.7200\n"
     ]
    },
    {
     "data": {
      "application/vnd.jupyter.widget-view+json": {
       "model_id": "871c893c3575445184bd5c28005dee33",
       "version_major": 2,
       "version_minor": 0
      },
      "text/plain": [
       "HBox(children=(FloatProgress(value=0.0, max=1257.0), HTML(value='')))"
      ]
     },
     "metadata": {},
     "output_type": "display_data"
    },
    {
     "name": "stdout",
     "output_type": "stream",
     "text": [
      "\n",
      "Epoch 3/25: train_loss: 119.6328, train_accuracy: 78.2512, val_loss: 58.5606, val_accuracy: 84.2500\n"
     ]
    },
    {
     "data": {
      "application/vnd.jupyter.widget-view+json": {
       "model_id": "c765d19caedd4763a4fbac3c7cbbf9f3",
       "version_major": 2,
       "version_minor": 0
      },
      "text/plain": [
       "HBox(children=(FloatProgress(value=0.0, max=1257.0), HTML(value='')))"
      ]
     },
     "metadata": {},
     "output_type": "display_data"
    },
    {
     "name": "stdout",
     "output_type": "stream",
     "text": [
      "\n",
      "Epoch 4/25: train_loss: 55.0074, train_accuracy: 83.8159, val_loss: 18.1038, val_accuracy: 91.3400\n"
     ]
    },
    {
     "data": {
      "application/vnd.jupyter.widget-view+json": {
       "model_id": "aca8adec107c47daad9f2bd01d985f99",
       "version_major": 2,
       "version_minor": 0
      },
      "text/plain": [
       "HBox(children=(FloatProgress(value=0.0, max=1257.0), HTML(value='')))"
      ]
     },
     "metadata": {},
     "output_type": "display_data"
    },
    {
     "name": "stdout",
     "output_type": "stream",
     "text": [
      "\n",
      "Epoch 5/25: train_loss: 30.9727, train_accuracy: 85.4378, val_loss: 15.0355, val_accuracy: 88.0600\n"
     ]
    },
    {
     "data": {
      "application/vnd.jupyter.widget-view+json": {
       "model_id": "4a2ea35b03cf4caea5a18e2773505443",
       "version_major": 2,
       "version_minor": 0
      },
      "text/plain": [
       "HBox(children=(FloatProgress(value=0.0, max=1257.0), HTML(value='')))"
      ]
     },
     "metadata": {},
     "output_type": "display_data"
    },
    {
     "name": "stdout",
     "output_type": "stream",
     "text": [
      "\n",
      "Epoch 6/25: train_loss: 2470.9457, train_accuracy: 77.9204, val_loss: 778.3462, val_accuracy: 75.9000\n"
     ]
    },
    {
     "data": {
      "application/vnd.jupyter.widget-view+json": {
       "model_id": "5e72e270fc84410abc5a9a1a2418f6f0",
       "version_major": 2,
       "version_minor": 0
      },
      "text/plain": [
       "HBox(children=(FloatProgress(value=0.0, max=1257.0), HTML(value='')))"
      ]
     },
     "metadata": {},
     "output_type": "display_data"
    },
    {
     "name": "stdout",
     "output_type": "stream",
     "text": [
      "\n",
      "Epoch 7/25: train_loss: 329.9194, train_accuracy: 83.8284, val_loss: 299.3490, val_accuracy: 81.3100\n"
     ]
    },
    {
     "data": {
      "application/vnd.jupyter.widget-view+json": {
       "model_id": "1919988603c74f1abe1009ec7f5c6ff5",
       "version_major": 2,
       "version_minor": 0
      },
      "text/plain": [
       "HBox(children=(FloatProgress(value=0.0, max=1257.0), HTML(value='')))"
      ]
     },
     "metadata": {},
     "output_type": "display_data"
    },
    {
     "name": "stdout",
     "output_type": "stream",
     "text": [
      "\n",
      "Epoch 8/25: train_loss: 192.7296, train_accuracy: 86.0721, val_loss: 119.1342, val_accuracy: 88.3000\n"
     ]
    },
    {
     "data": {
      "application/vnd.jupyter.widget-view+json": {
       "model_id": "34fd4da3088243e9b34b642abfcb5035",
       "version_major": 2,
       "version_minor": 0
      },
      "text/plain": [
       "HBox(children=(FloatProgress(value=0.0, max=1257.0), HTML(value='')))"
      ]
     },
     "metadata": {},
     "output_type": "display_data"
    },
    {
     "name": "stdout",
     "output_type": "stream",
     "text": [
      "\n",
      "Epoch 9/25: train_loss: 95.5851, train_accuracy: 88.3284, val_loss: 98.5279, val_accuracy: 87.8300\n"
     ]
    },
    {
     "data": {
      "application/vnd.jupyter.widget-view+json": {
       "model_id": "14be377e31534f23a4c7cc33ac2b2de7",
       "version_major": 2,
       "version_minor": 0
      },
      "text/plain": [
       "HBox(children=(FloatProgress(value=0.0, max=1257.0), HTML(value='')))"
      ]
     },
     "metadata": {},
     "output_type": "display_data"
    },
    {
     "name": "stdout",
     "output_type": "stream",
     "text": [
      "\n",
      "Epoch 10/25: train_loss: 70.9870, train_accuracy: 88.4577, val_loss: 72.8500, val_accuracy: 85.5600\n"
     ]
    },
    {
     "data": {
      "application/vnd.jupyter.widget-view+json": {
       "model_id": "4017084489cd42899e96bd05b62f8a0c",
       "version_major": 2,
       "version_minor": 0
      },
      "text/plain": [
       "HBox(children=(FloatProgress(value=0.0, max=1257.0), HTML(value='')))"
      ]
     },
     "metadata": {},
     "output_type": "display_data"
    },
    {
     "name": "stdout",
     "output_type": "stream",
     "text": [
      "\n",
      "Epoch 11/25: train_loss: 69.4506, train_accuracy: 87.8159, val_loss: 54.4512, val_accuracy: 86.9900\n"
     ]
    },
    {
     "data": {
      "application/vnd.jupyter.widget-view+json": {
       "model_id": "ce196b0dfe324e9185639200c24384cb",
       "version_major": 2,
       "version_minor": 0
      },
      "text/plain": [
       "HBox(children=(FloatProgress(value=0.0, max=1257.0), HTML(value='')))"
      ]
     },
     "metadata": {},
     "output_type": "display_data"
    },
    {
     "name": "stdout",
     "output_type": "stream",
     "text": [
      "\n",
      "Epoch 12/25: train_loss: 65.6464, train_accuracy: 85.9303, val_loss: 38.3251, val_accuracy: 87.7600\n"
     ]
    },
    {
     "data": {
      "application/vnd.jupyter.widget-view+json": {
       "model_id": "2f0dfb1e575247f5aaf5c930abaac653",
       "version_major": 2,
       "version_minor": 0
      },
      "text/plain": [
       "HBox(children=(FloatProgress(value=0.0, max=1257.0), HTML(value='')))"
      ]
     },
     "metadata": {},
     "output_type": "display_data"
    },
    {
     "name": "stdout",
     "output_type": "stream",
     "text": [
      "\n",
      "Epoch 13/25: train_loss: 2210.3437, train_accuracy: 80.3856, val_loss: 190.7397, val_accuracy: 89.1000\n"
     ]
    },
    {
     "data": {
      "application/vnd.jupyter.widget-view+json": {
       "model_id": "41b36c868d604fa9b1e265fcd4534d25",
       "version_major": 2,
       "version_minor": 0
      },
      "text/plain": [
       "HBox(children=(FloatProgress(value=0.0, max=1257.0), HTML(value='')))"
      ]
     },
     "metadata": {},
     "output_type": "display_data"
    },
    {
     "name": "stdout",
     "output_type": "stream",
     "text": [
      "\n",
      "Epoch 14/25: train_loss: 403.1396, train_accuracy: 86.5448, val_loss: 405.7541, val_accuracy: 85.1700\n"
     ]
    },
    {
     "data": {
      "application/vnd.jupyter.widget-view+json": {
       "model_id": "1f1ea49903994008a5c262553efdddfd",
       "version_major": 2,
       "version_minor": 0
      },
      "text/plain": [
       "HBox(children=(FloatProgress(value=0.0, max=1257.0), HTML(value='')))"
      ]
     },
     "metadata": {},
     "output_type": "display_data"
    },
    {
     "name": "stdout",
     "output_type": "stream",
     "text": [
      "\n",
      "Epoch 15/25: train_loss: 185.4342, train_accuracy: 90.2065, val_loss: 120.3719, val_accuracy: 91.4400\n"
     ]
    },
    {
     "data": {
      "application/vnd.jupyter.widget-view+json": {
       "model_id": "1e32f2b1560e478d95d416338b4e3d6e",
       "version_major": 2,
       "version_minor": 0
      },
      "text/plain": [
       "HBox(children=(FloatProgress(value=0.0, max=1257.0), HTML(value='')))"
      ]
     },
     "metadata": {},
     "output_type": "display_data"
    },
    {
     "name": "stdout",
     "output_type": "stream",
     "text": [
      "\n",
      "Epoch 16/25: train_loss: 73.5126, train_accuracy: 91.9179, val_loss: 39.6417, val_accuracy: 94.0700\n"
     ]
    },
    {
     "data": {
      "application/vnd.jupyter.widget-view+json": {
       "model_id": "d1de5e5a306e453f8234042c832e63b0",
       "version_major": 2,
       "version_minor": 0
      },
      "text/plain": [
       "HBox(children=(FloatProgress(value=0.0, max=1257.0), HTML(value='')))"
      ]
     },
     "metadata": {},
     "output_type": "display_data"
    },
    {
     "name": "stdout",
     "output_type": "stream",
     "text": [
      "\n",
      "Epoch 17/25: train_loss: 46.4803, train_accuracy: 91.6070, val_loss: 29.2443, val_accuracy: 92.0100\n"
     ]
    },
    {
     "data": {
      "application/vnd.jupyter.widget-view+json": {
       "model_id": "9be6b267475d43fabd14630fdf7bce9d",
       "version_major": 2,
       "version_minor": 0
      },
      "text/plain": [
       "HBox(children=(FloatProgress(value=0.0, max=1257.0), HTML(value='')))"
      ]
     },
     "metadata": {},
     "output_type": "display_data"
    },
    {
     "name": "stdout",
     "output_type": "stream",
     "text": [
      "\n",
      "Epoch 18/25: train_loss: 5731.8903, train_accuracy: 74.9229, val_loss: 1032.7599, val_accuracy: 72.2100\n"
     ]
    },
    {
     "data": {
      "application/vnd.jupyter.widget-view+json": {
       "model_id": "b5aace34bbb14fcdbf842c898ad1d353",
       "version_major": 2,
       "version_minor": 0
      },
      "text/plain": [
       "HBox(children=(FloatProgress(value=0.0, max=1257.0), HTML(value='')))"
      ]
     },
     "metadata": {},
     "output_type": "display_data"
    },
    {
     "name": "stdout",
     "output_type": "stream",
     "text": [
      "\n",
      "Epoch 19/25: train_loss: 715.3627, train_accuracy: 79.3731, val_loss: 1004.8982, val_accuracy: 81.7000\n"
     ]
    },
    {
     "data": {
      "application/vnd.jupyter.widget-view+json": {
       "model_id": "86bb779d5aa34d248568a8fc6019268d",
       "version_major": 2,
       "version_minor": 0
      },
      "text/plain": [
       "HBox(children=(FloatProgress(value=0.0, max=1257.0), HTML(value='')))"
      ]
     },
     "metadata": {},
     "output_type": "display_data"
    },
    {
     "name": "stdout",
     "output_type": "stream",
     "text": [
      "\n",
      "Epoch 20/25: train_loss: 346.5124, train_accuracy: 87.1169, val_loss: 211.4435, val_accuracy: 91.1600\n"
     ]
    },
    {
     "data": {
      "application/vnd.jupyter.widget-view+json": {
       "model_id": "dbca40316a334611829d389120274b5a",
       "version_major": 2,
       "version_minor": 0
      },
      "text/plain": [
       "HBox(children=(FloatProgress(value=0.0, max=1257.0), HTML(value='')))"
      ]
     },
     "metadata": {},
     "output_type": "display_data"
    },
    {
     "name": "stdout",
     "output_type": "stream",
     "text": [
      "\n",
      "Epoch 21/25: train_loss: 1423.1997, train_accuracy: 83.9776, val_loss: 612.3392, val_accuracy: 83.3500\n"
     ]
    },
    {
     "data": {
      "application/vnd.jupyter.widget-view+json": {
       "model_id": "c7772792614647d9ab10b9051ce9bc91",
       "version_major": 2,
       "version_minor": 0
      },
      "text/plain": [
       "HBox(children=(FloatProgress(value=0.0, max=1257.0), HTML(value='')))"
      ]
     },
     "metadata": {},
     "output_type": "display_data"
    },
    {
     "name": "stdout",
     "output_type": "stream",
     "text": [
      "\n",
      "Epoch 22/25: train_loss: 374.2476, train_accuracy: 89.3607, val_loss: 190.2428, val_accuracy: 93.0400\n"
     ]
    },
    {
     "data": {
      "application/vnd.jupyter.widget-view+json": {
       "model_id": "8d9387bf5dd64371860a63a1c894a0f6",
       "version_major": 2,
       "version_minor": 0
      },
      "text/plain": [
       "HBox(children=(FloatProgress(value=0.0, max=1257.0), HTML(value='')))"
      ]
     },
     "metadata": {},
     "output_type": "display_data"
    },
    {
     "name": "stdout",
     "output_type": "stream",
     "text": [
      "\n",
      "Epoch 23/25: train_loss: 2649.1165, train_accuracy: 83.6692, val_loss: 398.2893, val_accuracy: 89.0200\n"
     ]
    },
    {
     "data": {
      "application/vnd.jupyter.widget-view+json": {
       "model_id": "785d7e0d0b48461883636079caa96092",
       "version_major": 2,
       "version_minor": 0
      },
      "text/plain": [
       "HBox(children=(FloatProgress(value=0.0, max=1257.0), HTML(value='')))"
      ]
     },
     "metadata": {},
     "output_type": "display_data"
    },
    {
     "name": "stdout",
     "output_type": "stream",
     "text": [
      "\n",
      "Epoch 24/25: train_loss: 396.7023, train_accuracy: 88.6070, val_loss: 559.8021, val_accuracy: 84.7300\n"
     ]
    },
    {
     "data": {
      "application/vnd.jupyter.widget-view+json": {
       "model_id": "6e5a8cf78fb14b1eac413654cd9b2a83",
       "version_major": 2,
       "version_minor": 0
      },
      "text/plain": [
       "HBox(children=(FloatProgress(value=0.0, max=1257.0), HTML(value='')))"
      ]
     },
     "metadata": {},
     "output_type": "display_data"
    },
    {
     "name": "stdout",
     "output_type": "stream",
     "text": [
      "\n",
      "Epoch 25/25: train_loss: 1310.0150, train_accuracy: 85.0945, val_loss: 561.1667, val_accuracy: 88.2600\n"
     ]
    }
   ],
   "source": [
    "device = torch.device('cuda' if torch.cuda.is_available() else 'cpu')\n",
    "\n",
    "\n",
    "n_epochs = 25\n",
    "loss_fn = nn.CrossEntropyLoss()\n",
    "\n",
    "batch_size = 32\n",
    "\n",
    "train_dataloader = DataLoader(train_set, batch_size=batch_size, shuffle=True, num_workers=8,pin_memory=True)\n",
    "test_dataloader = DataLoader(test_set, batch_size=batch_size, shuffle=False, num_workers=8,pin_memory=True)\n",
    "\n",
    "learning_rates=[0.001,0.01,0.1]\n",
    "\n",
    "models={}\n",
    "optimizers={}\n",
    "\n",
    "for learning_rate in learning_rates:\n",
    "    models[learning_rate]= PR_CNN()\n",
    "    models[learning_rate] = models[learning_rate].to(device)\n",
    "    optimizers[learning_rate]= torch.optim.Adam(models[learning_rate].parameters(), lr=learning_rate)\n",
    "\n",
    "train_losses={}\n",
    "val_losses={}\n",
    "train_acc={}\n",
    "val_acc={}\n",
    "\n",
    "for learning_rate in learning_rates:\n",
    "    print(f'\\nTraining model with lr = {learning_rate}')\n",
    "    train_losses_i, val_losses_i, train_acc_i, val_acc_i = train(models[learning_rate], train_dataloader, test_dataloader, optimizers[learning_rate], n_epochs=n_epochs, loss_function=loss_fn)\n",
    "    train_losses[learning_rate]=train_losses_i\n",
    "    val_losses[learning_rate]=val_losses_i\n",
    "    train_acc[learning_rate]=train_acc_i\n",
    "    val_acc[learning_rate]=val_acc_i\n",
    "    \n",
    "    "
   ]
  },
  {
   "cell_type": "code",
   "execution_count": 70,
   "metadata": {},
   "outputs": [
    {
     "data": {
      "image/png": "[encoded data removed]",
      "text/plain": [
       "<Figure size 1080x432 with 1 Axes>"
      ]
     },
     "metadata": {
      "needs_background": "light"
     },
     "output_type": "display_data"
    },
    {
     "data": {
      "image/png": "[encoded data removed]",
      "text/plain": [
       "<Figure size 1080x432 with 1 Axes>"
      ]
     },
     "metadata": {
      "needs_background": "light"
     },
     "output_type": "display_data"
    }
   ],
   "source": [
    "def plot(n_epochs, train_losses, val_losses, train_accuracies, val_accuracies):\n",
    "    plt.figure(figsize=(15,6))\n",
    "    \n",
    "    legend_loss=[]\n",
    "    \n",
    "    colors=['r','g','b']\n",
    "    \n",
    "    i=0\n",
    "    for learning_rate,train_loss in train_losses.items():\n",
    "        plt.plot(np.arange(n_epochs), train_loss,f'{colors[i]}--')\n",
    "        legend_loss.append(f'train_loss with lr = {learning_rate}')\n",
    "        i+=1\n",
    "        \n",
    "    i=0\n",
    "    for learning_rate,val_loss in val_losses.items():\n",
    "        plt.plot(np.arange(n_epochs), val_loss,colors[i])\n",
    "        legend_loss.append(f'val_loss with lr = {learning_rate}')\n",
    "        i+=1\n",
    "        \n",
    "    plt.legend(legend_loss)\n",
    "    \n",
    "    plt.xlabel('epoch')\n",
    "    plt.ylabel('loss value')\n",
    "    plt.title('Train/val loss for different learning rates');\n",
    "\n",
    "    plt.figure(figsize=(15,6))\n",
    "    \n",
    "    legend_acc=[]\n",
    "    \n",
    "    i=0\n",
    "    for learning_rate,train_acc in train_accuracies.items():\n",
    "        plt.plot(np.arange(n_epochs), train_acc,f'{colors[i]}--')\n",
    "        legend_acc.append(f'train_acc with lr = {learning_rate}')\n",
    "        i+=1\n",
    "        \n",
    "    i=0\n",
    "    for learning_rate,val_acc in val_accuracies.items():\n",
    "        plt.plot(np.arange(n_epochs), val_acc,colors[i])\n",
    "        legend_acc.append(f'val_acc with lr = {learning_rate}')\n",
    "        i+=1\n",
    "    \n",
    "    plt.legend(legend_acc)\n",
    "    plt.xlabel('epoch')\n",
    "    plt.ylabel('accuracy')\n",
    "    plt.title('Train/val accuracy for different learning rates');\n",
    "\n",
    "plot(n_epochs, train_losses, val_losses, train_acc, val_acc)\n"
   ]
  },
  {
   "cell_type": "code",
   "execution_count": 81,
   "metadata": {},
   "outputs": [
    {
     "name": "stdout",
     "output_type": "stream",
     "text": [
      "The maximum accuracy with lr = 0.001 was achieved on epoch 7 with 98.36% accuracy\n"
     ]
    }
   ],
   "source": [
    "print(f'The maximum accuracy with lr = 0.001 was achieved on epoch {val_acc[0.001].index(max(val_acc[0.001]))} with {max(val_acc[0.001])}% accuracy')"
   ]
  },
  {
   "cell_type": "code",
   "execution_count": null,
   "metadata": {},
   "outputs": [],
   "source": []
  }
 ],
 "metadata": {
  "kernelspec": {
   "display_name": "Python 3",
   "language": "python",
   "name": "python3"
  },
  "language_info": {
   "codemirror_mode": {
    "name": "ipython",
    "version": 3
   },
   "file_extension": ".py",
   "mimetype": "text/x-python",
   "name": "python",
   "nbconvert_exporter": "python",
   "pygments_lexer": "ipython3",
   "version": "3.8.2"
  }
 },
 "nbformat": 4,
 "nbformat_minor": 4
}
