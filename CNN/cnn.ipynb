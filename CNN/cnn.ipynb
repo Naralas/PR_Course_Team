{
 "cells": [
  {
   "cell_type": "code",
   "execution_count": 20,
   "metadata": {},
   "outputs": [],
   "source": [
    "from PIL import Image\n",
    "import glob\n",
    "import torch.utils.data as data\n",
    "from tqdm.notebook import trange, tqdm\n",
    "\n",
    "class ImageNetLimited(data.Dataset):\n",
    "    \"\"\"ImageNet Limited dataset.\"\"\"\n",
    "    \n",
    "    def __init__(self, root_dir, transform=None):\n",
    "        \n",
    "        if transform:\n",
    "            self.transform = transform\n",
    "\n",
    "        files = glob.glob(root_dir+'/[0-9]/*.png')\n",
    "\n",
    "        self.images=[]\n",
    "        self.labels=[]\n",
    "        \n",
    "        for file in tqdm(files):\n",
    "            temp = Image.open(file).convert(\"RGB\")\n",
    "            keep = temp.copy()\n",
    "            self.labels.append(int(file.split('/')[-2]))\n",
    "            self.images.append(keep)\n",
    "            temp.close()\n",
    "\n",
    "    def __len__(self):\n",
    "    \n",
    "        return len(self.images)\n",
    "\n",
    "    def __getitem__(self, idx):\n",
    "\n",
    "        label = self.labels[idx]\n",
    "        image = self.images[idx]\n",
    "\n",
    "        if self.transform:\n",
    "            image = self.transform(image)\n",
    "\n",
    "        return image,label\n"
   ]
  },
  {
   "cell_type": "code",
   "execution_count": 22,
   "metadata": {},
   "outputs": [
    {
     "data": {
      "application/vnd.jupyter.widget-view+json": {
       "model_id": "6e4d6d3ae6c743b3bb62f9df512dabdd",
       "version_major": 2,
       "version_minor": 0
      },
      "text/plain": [
       "HBox(children=(FloatProgress(value=0.0, max=40200.0), HTML(value='')))"
      ]
     },
     "metadata": {},
     "output_type": "display_data"
    },
    {
     "name": "stdout",
     "output_type": "stream",
     "text": [
      "\n"
     ]
    },
    {
     "data": {
      "application/vnd.jupyter.widget-view+json": {
       "model_id": "78ab4b8b6ec748bc864abf9183dc72c0",
       "version_major": 2,
       "version_minor": 0
      },
      "text/plain": [
       "HBox(children=(FloatProgress(value=0.0, max=19800.0), HTML(value='')))"
      ]
     },
     "metadata": {},
     "output_type": "display_data"
    },
    {
     "name": "stdout",
     "output_type": "stream",
     "text": [
      "\n"
     ]
    }
   ],
   "source": [
    "from torchvision.transforms import ToTensor, Normalize, Compose\n",
    "\n",
    "train_dir='data/train'\n",
    "validation_dir='data/val'\n",
    "\n",
    "transform = Compose([ToTensor(), # Converts to Tensor, scales to [0, 1] float (from [0, 255] int)\n",
    "                    Normalize(mean=(0.5, 0.5, 0.5,), std=(0.5, 0.5, 0.5)), # scales to [-1.0, 1.0]\n",
    "                    ])\n",
    "\n",
    "train_set = ImageNetLimited(train_dir,transform=transform)\n",
    "validation_set = ImageNetLimited(validation_dir,transform=transform)"
   ]
  },
  {
   "cell_type": "code",
   "execution_count": 52,
   "metadata": {},
   "outputs": [],
   "source": [
    "import torch.nn as nn\n",
    "\n",
    "\n",
    "class Flatten(nn.Module):\n",
    "    \"\"\"\n",
    "    Flatten a convolution block into a simple vector.\n",
    "\n",
    "    Replaces the flattening line (view) often found into forward() methods of networks. This makes it\n",
    "    easier to navigate the network with introspection\n",
    "    \"\"\"\n",
    "    def forward(self, x):\n",
    "        x = x.view(x.size()[0], -1)\n",
    "        return x\n",
    "\n",
    "\n",
    "class PR_CNN(nn.Module):\n",
    "    \"\"\"\n",
    "    Simple feed forward convolutional neural network\n",
    "\n",
    "    Attributes\n",
    "    ----------\n",
    "    expected_input_size : tuple(int,int)\n",
    "        Expected input size (width, height)\n",
    "    conv1 : torch.nn.Sequential\n",
    "    conv2 : torch.nn.Sequential\n",
    "    conv3 : torch.nn.Sequential\n",
    "        Convolutional layers of the network\n",
    "    fc : torch.nn.Linear\n",
    "        Final classification fully connected layer\n",
    "\n",
    "    \"\"\"\n",
    "\n",
    "    def __init__(self, **kwargs):\n",
    "        \"\"\"\n",
    "        Creates an CNN_basic model from the scratch.\n",
    "\n",
    "        Parameters\n",
    "        ----------\n",
    "        output_channels : int\n",
    "            Number of neurons in the last layer\n",
    "        input_channels : int\n",
    "            Dimensionality of the input, typically 3 for RGB\n",
    "        \"\"\"\n",
    "        super(PR_CNN, self).__init__()\n",
    "\n",
    "        # PR_FILL_HERE: Here you have to put the expected input size in terms of width and height of your input image\n",
    "        self.expected_input_size = (28, 28)\n",
    "\n",
    "        # First layer\n",
    "        self.conv = nn.Sequential(\n",
    "            # PR_FILL_HERE: Here you have to put the input channels, output channels ands the kernel size\n",
    "            nn.Conv2d(in_channels=3, out_channels=32, kernel_size=3, stride=3),\n",
    "            nn.LeakyReLU(),\n",
    "            nn.Conv2d(in_channels=32, out_channels=64, kernel_size=3, stride=3),\n",
    "            nn.LeakyReLU(),\n",
    "            nn.Conv2d(in_channels=64, out_channels=128, kernel_size=3, stride=3),\n",
    "            nn.LeakyReLU()\n",
    "        )\n",
    "\n",
    "\n",
    "        # Classification layer\n",
    "        self.fc = nn.Sequential(\n",
    "            Flatten(),\n",
    "            # PR_FILL_HERE: Here you have to put the output size of the linear layer. DO NOT change 1536!\n",
    "            nn.Linear(128, 10)\n",
    "        )\n",
    "\n",
    "    def forward(self, x):\n",
    "        \"\"\"\n",
    "        Computes forward pass on the network\n",
    "\n",
    "        Parameters\n",
    "        ----------\n",
    "        x : Variable\n",
    "            Sample to run forward pass on. (input to the model)\n",
    "\n",
    "        Returns\n",
    "        -------\n",
    "        Variable\n",
    "            Activations of the fully connected layer\n",
    "        \"\"\"\n",
    "        x = self.conv(x)\n",
    "        x = self.fc(x)\n",
    "        return x\n"
   ]
  },
  {
   "cell_type": "code",
   "execution_count": 53,
   "metadata": {},
   "outputs": [],
   "source": [
    "import torch\n",
    "from torch.utils.data import DataLoader\n",
    "from tqdm.notebook import trange, tqdm\n",
    "import numpy as np\n",
    "\n",
    "def train_epoch(model, train_dataloader, optimizer, loss_fn):\n",
    "    losses = []\n",
    "    correct_predictions = 0\n",
    "\n",
    "    # Iterate mini batches over training dataset\n",
    "    for images, labels in tqdm(train_dataloader):\n",
    "        images = images.to(device)\n",
    "        labels = labels.to(device)\n",
    "        # Run predictions\n",
    "        output = model(images)\n",
    "        # Set gradients to zero\n",
    "        optimizer.zero_grad()\n",
    "        # Compute loss\n",
    "        loss = loss_fn(output, labels)\n",
    "        # Backpropagate (compute gradients)\n",
    "        loss.backward()\n",
    "        # Make an optimization step (update parameters)\n",
    "        optimizer.step()\n",
    "        # Log metrics\n",
    "        losses.append(loss.item())\n",
    "        predicted_labels = output.argmax(dim=1)\n",
    "        correct_predictions += (predicted_labels == labels).sum().item()\n",
    "    # Return loss values for each iteration and accuracy\n",
    "    mean_loss = np.array(losses).mean()\n",
    "    accuracy = 100.0 * correct_predictions / len(train_dataloader.dataset)\n",
    "    return mean_loss, accuracy\n",
    "\n",
    "def evaluate(model, dataloader, loss_fn):\n",
    "    losses = []\n",
    "    correct_predictions = 0\n",
    "    # Iterate mini batches over validation dataset\n",
    "    with torch.no_grad():\n",
    "        for images, labels in dataloader:\n",
    "            images = images.to(device)\n",
    "            labels = labels.to(device)\n",
    "            # Run predictions\n",
    "            output = model(images)\n",
    "            # Compute loss\n",
    "            loss = loss_fn(output, labels)\n",
    "            # Save metrics\n",
    "            losses.append(loss.item())\n",
    "            predicted_labels = output.argmax(dim=1)\n",
    "            correct_predictions += (predicted_labels == labels).sum().item()\n",
    "    # Return mean loss and accuracy\n",
    "    mean_loss = np.array(losses).mean()\n",
    "    accuracy = 100.0 * correct_predictions / len(dataloader.dataset)\n",
    "    return mean_loss, accuracy\n",
    "\n",
    "def train(model, train_dataloader, val_dataloader, optimizer, n_epochs, loss_function):\n",
    "    # We will monitor loss functions as the training progresses\n",
    "    train_losses = []\n",
    "    val_losses = []\n",
    "    train_accuracies = []\n",
    "    val_accuracies = []\n",
    "\n",
    "    # Run training for n_epochs\n",
    "    for epoch in range(n_epochs):\n",
    "        model.train()\n",
    "        train_loss, train_accuracy = train_epoch(model, train_dataloader, optimizer, loss_fn)\n",
    "        model.eval()\n",
    "        val_loss, val_accuracy = evaluate(model, val_dataloader, loss_fn)\n",
    "        train_losses.append(train_loss)\n",
    "        val_losses.append(val_loss)\n",
    "        train_accuracies.append(train_accuracy)\n",
    "        val_accuracies.append(val_accuracy)\n",
    "        print('Epoch {}/{}: train_loss: {:.4f}, train_accuracy: {:.4f}, val_loss: {:.4f}, val_accuracy: {:.4f}'.format(epoch+1, n_epochs,\n",
    "                                                                                                      train_losses[-1],\n",
    "                                                                                                      train_accuracies[-1],\n",
    "                                                                                                      val_losses[-1],\n",
    "                                                                                                      val_accuracies[-1]))\n",
    "    return train_losses, val_losses, train_accuracies, val_accuracies\n"
   ]
  },
  {
   "cell_type": "code",
   "execution_count": 58,
   "metadata": {},
   "outputs": [
    {
     "data": {
      "application/vnd.jupyter.widget-view+json": {
       "model_id": "674faa1f11ff4bff897803edc8871bc3",
       "version_major": 2,
       "version_minor": 0
      },
      "text/plain": [
       "HBox(children=(FloatProgress(value=0.0, max=1257.0), HTML(value='')))"
      ]
     },
     "metadata": {},
     "output_type": "display_data"
    },
    {
     "name": "stdout",
     "output_type": "stream",
     "text": [
      "\n",
      "Epoch 1/10: train_loss: 0.2762, train_accuracy: 91.6716, val_loss: 0.1082, val_accuracy: 96.7879\n"
     ]
    },
    {
     "data": {
      "application/vnd.jupyter.widget-view+json": {
       "model_id": "da212e96ed394a63b9557412d7da6097",
       "version_major": 2,
       "version_minor": 0
      },
      "text/plain": [
       "HBox(children=(FloatProgress(value=0.0, max=1257.0), HTML(value='')))"
      ]
     },
     "metadata": {},
     "output_type": "display_data"
    },
    {
     "name": "stdout",
     "output_type": "stream",
     "text": [
      "\n",
      "Epoch 2/10: train_loss: 0.0904, train_accuracy: 97.3333, val_loss: 0.0843, val_accuracy: 97.4646\n"
     ]
    },
    {
     "data": {
      "application/vnd.jupyter.widget-view+json": {
       "model_id": "8e5bf3a9856f4290858033517f2ce40d",
       "version_major": 2,
       "version_minor": 0
      },
      "text/plain": [
       "HBox(children=(FloatProgress(value=0.0, max=1257.0), HTML(value='')))"
      ]
     },
     "metadata": {},
     "output_type": "display_data"
    },
    {
     "name": "stdout",
     "output_type": "stream",
     "text": [
      "\n",
      "Epoch 3/10: train_loss: 0.0625, train_accuracy: 97.9925, val_loss: 0.0821, val_accuracy: 97.5202\n"
     ]
    },
    {
     "data": {
      "application/vnd.jupyter.widget-view+json": {
       "model_id": "fa8a2df21c894a01aa07d006b27b60b8",
       "version_major": 2,
       "version_minor": 0
      },
      "text/plain": [
       "HBox(children=(FloatProgress(value=0.0, max=1257.0), HTML(value='')))"
      ]
     },
     "metadata": {},
     "output_type": "display_data"
    },
    {
     "name": "stdout",
     "output_type": "stream",
     "text": [
      "\n",
      "Epoch 4/10: train_loss: 0.0452, train_accuracy: 98.6070, val_loss: 0.0778, val_accuracy: 97.7677\n"
     ]
    },
    {
     "data": {
      "application/vnd.jupyter.widget-view+json": {
       "model_id": "79b7b526edb0450fadeb3821f5c7271a",
       "version_major": 2,
       "version_minor": 0
      },
      "text/plain": [
       "HBox(children=(FloatProgress(value=0.0, max=1257.0), HTML(value='')))"
      ]
     },
     "metadata": {},
     "output_type": "display_data"
    },
    {
     "name": "stdout",
     "output_type": "stream",
     "text": [
      "\n",
      "Epoch 5/10: train_loss: 0.0346, train_accuracy: 98.8607, val_loss: 0.0758, val_accuracy: 97.7929\n"
     ]
    },
    {
     "data": {
      "application/vnd.jupyter.widget-view+json": {
       "model_id": "ce18d8b77e764158abeb3b3681330d6c",
       "version_major": 2,
       "version_minor": 0
      },
      "text/plain": [
       "HBox(children=(FloatProgress(value=0.0, max=1257.0), HTML(value='')))"
      ]
     },
     "metadata": {},
     "output_type": "display_data"
    },
    {
     "name": "stdout",
     "output_type": "stream",
     "text": [
      "\n",
      "Epoch 6/10: train_loss: 0.0267, train_accuracy: 99.1393, val_loss: 0.0817, val_accuracy: 97.6970\n"
     ]
    },
    {
     "data": {
      "application/vnd.jupyter.widget-view+json": {
       "model_id": "b24d0fbeca464dfaa2e3c54b4acd108d",
       "version_major": 2,
       "version_minor": 0
      },
      "text/plain": [
       "HBox(children=(FloatProgress(value=0.0, max=1257.0), HTML(value='')))"
      ]
     },
     "metadata": {},
     "output_type": "display_data"
    },
    {
     "name": "stdout",
     "output_type": "stream",
     "text": [
      "\n",
      "Epoch 7/10: train_loss: 0.0224, train_accuracy: 99.2413, val_loss: 0.0756, val_accuracy: 97.9343\n"
     ]
    },
    {
     "data": {
      "application/vnd.jupyter.widget-view+json": {
       "model_id": "5a0d74595ac34c49b059fbac51c9a297",
       "version_major": 2,
       "version_minor": 0
      },
      "text/plain": [
       "HBox(children=(FloatProgress(value=0.0, max=1257.0), HTML(value='')))"
      ]
     },
     "metadata": {},
     "output_type": "display_data"
    },
    {
     "name": "stdout",
     "output_type": "stream",
     "text": [
      "\n",
      "Epoch 8/10: train_loss: 0.0170, train_accuracy: 99.4254, val_loss: 0.0943, val_accuracy: 97.9141\n"
     ]
    },
    {
     "data": {
      "application/vnd.jupyter.widget-view+json": {
       "model_id": "b811be3cb88740c1bc26ce67b3240dc7",
       "version_major": 2,
       "version_minor": 0
      },
      "text/plain": [
       "HBox(children=(FloatProgress(value=0.0, max=1257.0), HTML(value='')))"
      ]
     },
     "metadata": {},
     "output_type": "display_data"
    },
    {
     "name": "stdout",
     "output_type": "stream",
     "text": [
      "\n",
      "Epoch 9/10: train_loss: 0.0161, train_accuracy: 99.4602, val_loss: 0.0893, val_accuracy: 97.9495\n"
     ]
    },
    {
     "data": {
      "application/vnd.jupyter.widget-view+json": {
       "model_id": "fe9a2e01e18a4df2919df43458ca901f",
       "version_major": 2,
       "version_minor": 0
      },
      "text/plain": [
       "HBox(children=(FloatProgress(value=0.0, max=1257.0), HTML(value='')))"
      ]
     },
     "metadata": {},
     "output_type": "display_data"
    },
    {
     "name": "stdout",
     "output_type": "stream",
     "text": [
      "\n",
      "Epoch 10/10: train_loss: 0.0127, train_accuracy: 99.5995, val_loss: 0.0966, val_accuracy: 97.9192\n"
     ]
    }
   ],
   "source": [
    "device = torch.device('cuda' if torch.cuda.is_available() else 'cpu')\n",
    "\n",
    "model_conv = PR_CNN()\n",
    "model_conv = model_conv.to(device)\n",
    "learning_rate = 0.001\n",
    "optimizer = torch.optim.Adam(model_conv.parameters(), lr=learning_rate)\n",
    "n_epochs = 10\n",
    "loss_fn = nn.CrossEntropyLoss()\n",
    "\n",
    "batch_size = 32\n",
    "\n",
    "train_dataloader = DataLoader(train_set, batch_size=batch_size, shuffle=True, num_workers=8,pin_memory=True)\n",
    "val_dataloader = DataLoader(validation_set, batch_size=batch_size, shuffle=False, num_workers=8,pin_memory=True)\n",
    "\n",
    "train_losses, val_losses, train_accuracies, val_accuracies = train(model_conv, train_dataloader, val_dataloader, optimizer, n_epochs=n_epochs, loss_function=loss_fn)\n",
    "\n"
   ]
  },
  {
   "cell_type": "code",
   "execution_count": 59,
   "metadata": {},
   "outputs": [
    {
     "data": {
      "image/png": "[encoded data removed]",
      "text/plain": [
       "<Figure size 1080x432 with 1 Axes>"
      ]
     },
     "metadata": {
      "needs_background": "light"
     },
     "output_type": "display_data"
    },
    {
     "data": {
      "image/png": "[encoded data removed]",
      "text/plain": [
       "<Figure size 1080x432 with 1 Axes>"
      ]
     },
     "metadata": {
      "needs_background": "light"
     },
     "output_type": "display_data"
    }
   ],
   "source": [
    "%matplotlib inline\n",
    "import matplotlib.pyplot as plt\n",
    "\n",
    "def plot(n_epochs, train_losses, val_losses, train_accuracies, val_accuracies):\n",
    "    plt.figure(figsize=(15,6))\n",
    "    \n",
    "    legend_loss=[]\n",
    "\n",
    "    plt.plot(np.arange(n_epochs), train_losses,'r')\n",
    "    legend_loss.append('train_loss')\n",
    "\n",
    "    plt.plot(np.arange(n_epochs), val_losses,'g')\n",
    "    legend_loss.append('val_loss')\n",
    "        \n",
    "    plt.legend(legend_loss)\n",
    "    \n",
    "    plt.xlabel('epoch')\n",
    "    plt.ylabel('loss value')\n",
    "    plt.title('Train/val loss');\n",
    "\n",
    "    plt.figure(figsize=(15,6))\n",
    "    \n",
    "    legend_acc=[]\n",
    "\n",
    "    plt.plot(np.arange(n_epochs), train_accuracies,'r')\n",
    "    legend_acc.append('train_acc')\n",
    "\n",
    "    plt.plot(np.arange(n_epochs),val_accuracies, 'g')\n",
    "    legend_acc.append('val_acc')\n",
    "\n",
    "    plt.legend(legend_acc)\n",
    "    plt.xlabel('epoch')\n",
    "    plt.ylabel('accuracy')\n",
    "    plt.title('Train/val accuracy');\n",
    "\n",
    "plot(n_epochs, train_losses, val_losses, train_accuracies, val_accuracies)\n"
   ]
  },
  {
   "cell_type": "code",
   "execution_count": null,
   "metadata": {},
   "outputs": [],
   "source": []
  }
 ],
 "metadata": {
  "kernelspec": {
   "display_name": "Python 3",
   "language": "python",
   "name": "python3"
  },
  "language_info": {
   "codemirror_mode": {
    "name": "ipython",
    "version": 3
   },
   "file_extension": ".py",
   "mimetype": "text/x-python",
   "name": "python",
   "nbconvert_exporter": "python",
   "pygments_lexer": "ipython3",
   "version": "3.8.2"
  }
 },
 "nbformat": 4,
 "nbformat_minor": 4
}
